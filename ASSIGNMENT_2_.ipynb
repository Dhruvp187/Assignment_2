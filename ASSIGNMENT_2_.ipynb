{
  "nbformat": 4,
  "nbformat_minor": 0,
  "metadata": {
    "colab": {
      "provenance": [],
      "authorship_tag": "ABX9TyN28eSv31luKhvQIUlL1lAw",
      "include_colab_link": true
    },
    "kernelspec": {
      "name": "python3",
      "display_name": "Python 3"
    },
    "language_info": {
      "name": "python"
    }
  },
  "cells": [
    {
      "cell_type": "markdown",
      "metadata": {
        "id": "view-in-github",
        "colab_type": "text"
      },
      "source": [
        "<a href=\"https://colab.research.google.com/github/Dhruvp187/Assignment_2/blob/main/ASSIGNMENT_2_.ipynb\" target=\"_parent\"><img src=\"https://colab.research.google.com/assets/colab-badge.svg\" alt=\"Open In Colab\"/></a>"
      ]
    },
    {
      "cell_type": "markdown",
      "source": [
        "The dataset use for below analysis is diamonds.csv"
      ],
      "metadata": {
        "id": "IJqF5Jtqmodh"
      }
    },
    {
      "cell_type": "code",
      "execution_count": null,
      "metadata": {
        "id": "Xlj3QtdKYxyQ",
        "colab": {
          "base_uri": "https://localhost:8080/",
          "height": 300
        },
        "outputId": "006579a9-117e-4cdf-d117-b53266f143c4"
      },
      "outputs": [
        {
          "output_type": "execute_result",
          "data": {
            "text/plain": [
              "         Unnamed: 0         carat         depth         table         price  \\\n",
              "count  53940.000000  53940.000000  53940.000000  53940.000000  53940.000000   \n",
              "mean   26970.500000      0.797940     61.749405     57.457184   3932.799722   \n",
              "std    15571.281097      0.474011      1.432621      2.234491   3989.439738   \n",
              "min        1.000000      0.200000     43.000000     43.000000    326.000000   \n",
              "25%    13485.750000      0.400000     61.000000     56.000000    950.000000   \n",
              "50%    26970.500000      0.700000     61.800000     57.000000   2401.000000   \n",
              "75%    40455.250000      1.040000     62.500000     59.000000   5324.250000   \n",
              "max    53940.000000      5.010000     79.000000     95.000000  18823.000000   \n",
              "\n",
              "                  x             y             z  \n",
              "count  53940.000000  53940.000000  53940.000000  \n",
              "mean       5.731157      5.734526      3.538734  \n",
              "std        1.121761      1.142135      0.705699  \n",
              "min        0.000000      0.000000      0.000000  \n",
              "25%        4.710000      4.720000      2.910000  \n",
              "50%        5.700000      5.710000      3.530000  \n",
              "75%        6.540000      6.540000      4.040000  \n",
              "max       10.740000     58.900000     31.800000  "
            ],
            "text/html": [
              "\n",
              "  <div id=\"df-0d42fc67-ff33-4f36-8a17-7c08ad440046\">\n",
              "    <div class=\"colab-df-container\">\n",
              "      <div>\n",
              "<style scoped>\n",
              "    .dataframe tbody tr th:only-of-type {\n",
              "        vertical-align: middle;\n",
              "    }\n",
              "\n",
              "    .dataframe tbody tr th {\n",
              "        vertical-align: top;\n",
              "    }\n",
              "\n",
              "    .dataframe thead th {\n",
              "        text-align: right;\n",
              "    }\n",
              "</style>\n",
              "<table border=\"1\" class=\"dataframe\">\n",
              "  <thead>\n",
              "    <tr style=\"text-align: right;\">\n",
              "      <th></th>\n",
              "      <th>Unnamed: 0</th>\n",
              "      <th>carat</th>\n",
              "      <th>depth</th>\n",
              "      <th>table</th>\n",
              "      <th>price</th>\n",
              "      <th>x</th>\n",
              "      <th>y</th>\n",
              "      <th>z</th>\n",
              "    </tr>\n",
              "  </thead>\n",
              "  <tbody>\n",
              "    <tr>\n",
              "      <th>count</th>\n",
              "      <td>53940.000000</td>\n",
              "      <td>53940.000000</td>\n",
              "      <td>53940.000000</td>\n",
              "      <td>53940.000000</td>\n",
              "      <td>53940.000000</td>\n",
              "      <td>53940.000000</td>\n",
              "      <td>53940.000000</td>\n",
              "      <td>53940.000000</td>\n",
              "    </tr>\n",
              "    <tr>\n",
              "      <th>mean</th>\n",
              "      <td>26970.500000</td>\n",
              "      <td>0.797940</td>\n",
              "      <td>61.749405</td>\n",
              "      <td>57.457184</td>\n",
              "      <td>3932.799722</td>\n",
              "      <td>5.731157</td>\n",
              "      <td>5.734526</td>\n",
              "      <td>3.538734</td>\n",
              "    </tr>\n",
              "    <tr>\n",
              "      <th>std</th>\n",
              "      <td>15571.281097</td>\n",
              "      <td>0.474011</td>\n",
              "      <td>1.432621</td>\n",
              "      <td>2.234491</td>\n",
              "      <td>3989.439738</td>\n",
              "      <td>1.121761</td>\n",
              "      <td>1.142135</td>\n",
              "      <td>0.705699</td>\n",
              "    </tr>\n",
              "    <tr>\n",
              "      <th>min</th>\n",
              "      <td>1.000000</td>\n",
              "      <td>0.200000</td>\n",
              "      <td>43.000000</td>\n",
              "      <td>43.000000</td>\n",
              "      <td>326.000000</td>\n",
              "      <td>0.000000</td>\n",
              "      <td>0.000000</td>\n",
              "      <td>0.000000</td>\n",
              "    </tr>\n",
              "    <tr>\n",
              "      <th>25%</th>\n",
              "      <td>13485.750000</td>\n",
              "      <td>0.400000</td>\n",
              "      <td>61.000000</td>\n",
              "      <td>56.000000</td>\n",
              "      <td>950.000000</td>\n",
              "      <td>4.710000</td>\n",
              "      <td>4.720000</td>\n",
              "      <td>2.910000</td>\n",
              "    </tr>\n",
              "    <tr>\n",
              "      <th>50%</th>\n",
              "      <td>26970.500000</td>\n",
              "      <td>0.700000</td>\n",
              "      <td>61.800000</td>\n",
              "      <td>57.000000</td>\n",
              "      <td>2401.000000</td>\n",
              "      <td>5.700000</td>\n",
              "      <td>5.710000</td>\n",
              "      <td>3.530000</td>\n",
              "    </tr>\n",
              "    <tr>\n",
              "      <th>75%</th>\n",
              "      <td>40455.250000</td>\n",
              "      <td>1.040000</td>\n",
              "      <td>62.500000</td>\n",
              "      <td>59.000000</td>\n",
              "      <td>5324.250000</td>\n",
              "      <td>6.540000</td>\n",
              "      <td>6.540000</td>\n",
              "      <td>4.040000</td>\n",
              "    </tr>\n",
              "    <tr>\n",
              "      <th>max</th>\n",
              "      <td>53940.000000</td>\n",
              "      <td>5.010000</td>\n",
              "      <td>79.000000</td>\n",
              "      <td>95.000000</td>\n",
              "      <td>18823.000000</td>\n",
              "      <td>10.740000</td>\n",
              "      <td>58.900000</td>\n",
              "      <td>31.800000</td>\n",
              "    </tr>\n",
              "  </tbody>\n",
              "</table>\n",
              "</div>\n",
              "      <button class=\"colab-df-convert\" onclick=\"convertToInteractive('df-0d42fc67-ff33-4f36-8a17-7c08ad440046')\"\n",
              "              title=\"Convert this dataframe to an interactive table.\"\n",
              "              style=\"display:none;\">\n",
              "        \n",
              "  <svg xmlns=\"http://www.w3.org/2000/svg\" height=\"24px\"viewBox=\"0 0 24 24\"\n",
              "       width=\"24px\">\n",
              "    <path d=\"M0 0h24v24H0V0z\" fill=\"none\"/>\n",
              "    <path d=\"M18.56 5.44l.94 2.06.94-2.06 2.06-.94-2.06-.94-.94-2.06-.94 2.06-2.06.94zm-11 1L8.5 8.5l.94-2.06 2.06-.94-2.06-.94L8.5 2.5l-.94 2.06-2.06.94zm10 10l.94 2.06.94-2.06 2.06-.94-2.06-.94-.94-2.06-.94 2.06-2.06.94z\"/><path d=\"M17.41 7.96l-1.37-1.37c-.4-.4-.92-.59-1.43-.59-.52 0-1.04.2-1.43.59L10.3 9.45l-7.72 7.72c-.78.78-.78 2.05 0 2.83L4 21.41c.39.39.9.59 1.41.59.51 0 1.02-.2 1.41-.59l7.78-7.78 2.81-2.81c.8-.78.8-2.07 0-2.86zM5.41 20L4 18.59l7.72-7.72 1.47 1.35L5.41 20z\"/>\n",
              "  </svg>\n",
              "      </button>\n",
              "      \n",
              "  <style>\n",
              "    .colab-df-container {\n",
              "      display:flex;\n",
              "      flex-wrap:wrap;\n",
              "      gap: 12px;\n",
              "    }\n",
              "\n",
              "    .colab-df-convert {\n",
              "      background-color: #E8F0FE;\n",
              "      border: none;\n",
              "      border-radius: 50%;\n",
              "      cursor: pointer;\n",
              "      display: none;\n",
              "      fill: #1967D2;\n",
              "      height: 32px;\n",
              "      padding: 0 0 0 0;\n",
              "      width: 32px;\n",
              "    }\n",
              "\n",
              "    .colab-df-convert:hover {\n",
              "      background-color: #E2EBFA;\n",
              "      box-shadow: 0px 1px 2px rgba(60, 64, 67, 0.3), 0px 1px 3px 1px rgba(60, 64, 67, 0.15);\n",
              "      fill: #174EA6;\n",
              "    }\n",
              "\n",
              "    [theme=dark] .colab-df-convert {\n",
              "      background-color: #3B4455;\n",
              "      fill: #D2E3FC;\n",
              "    }\n",
              "\n",
              "    [theme=dark] .colab-df-convert:hover {\n",
              "      background-color: #434B5C;\n",
              "      box-shadow: 0px 1px 3px 1px rgba(0, 0, 0, 0.15);\n",
              "      filter: drop-shadow(0px 1px 2px rgba(0, 0, 0, 0.3));\n",
              "      fill: #FFFFFF;\n",
              "    }\n",
              "  </style>\n",
              "\n",
              "      <script>\n",
              "        const buttonEl =\n",
              "          document.querySelector('#df-0d42fc67-ff33-4f36-8a17-7c08ad440046 button.colab-df-convert');\n",
              "        buttonEl.style.display =\n",
              "          google.colab.kernel.accessAllowed ? 'block' : 'none';\n",
              "\n",
              "        async function convertToInteractive(key) {\n",
              "          const element = document.querySelector('#df-0d42fc67-ff33-4f36-8a17-7c08ad440046');\n",
              "          const dataTable =\n",
              "            await google.colab.kernel.invokeFunction('convertToInteractive',\n",
              "                                                     [key], {});\n",
              "          if (!dataTable) return;\n",
              "\n",
              "          const docLinkHtml = 'Like what you see? Visit the ' +\n",
              "            '<a target=\"_blank\" href=https://colab.research.google.com/notebooks/data_table.ipynb>data table notebook</a>'\n",
              "            + ' to learn more about interactive tables.';\n",
              "          element.innerHTML = '';\n",
              "          dataTable['output_type'] = 'display_data';\n",
              "          await google.colab.output.renderOutput(dataTable, element);\n",
              "          const docLink = document.createElement('div');\n",
              "          docLink.innerHTML = docLinkHtml;\n",
              "          element.appendChild(docLink);\n",
              "        }\n",
              "      </script>\n",
              "    </div>\n",
              "  </div>\n",
              "  "
            ]
          },
          "metadata": {},
          "execution_count": 1
        }
      ],
      "source": [
        "#Part I: Data Analysis – Diamonds\n",
        "\n",
        "import numpy as np\n",
        "import pandas as pd\n",
        "import os\n",
        "import matplotlib.pyplot as plt\n",
        "import matplotlib as map\n",
        "\n",
        "\n",
        "data1 = pd.read_csv('diamonds.csv')\n",
        "\n",
        "data1.describe()"
      ]
    },
    {
      "cell_type": "code",
      "source": [
        "data1.max()"
      ],
      "metadata": {
        "colab": {
          "base_uri": "https://localhost:8080/"
        },
        "id": "31mH3p1HmnqF",
        "outputId": "8317e3f0-60be-4c30-cd91-8f720d664e73"
      },
      "execution_count": null,
      "outputs": [
        {
          "output_type": "execute_result",
          "data": {
            "text/plain": [
              "Unnamed: 0        53940\n",
              "carat              5.01\n",
              "cut           Very Good\n",
              "color                 J\n",
              "clarity            VVS2\n",
              "depth              79.0\n",
              "table              95.0\n",
              "price             18823\n",
              "x                 10.74\n",
              "y                  58.9\n",
              "z                  31.8\n",
              "dtype: object"
            ]
          },
          "metadata": {},
          "execution_count": 2
        }
      ]
    },
    {
      "cell_type": "code",
      "source": [
        "data1.value_counts()"
      ],
      "metadata": {
        "colab": {
          "base_uri": "https://localhost:8080/"
        },
        "id": "13aLvtZXmrZM",
        "outputId": "ab65cd5c-e53c-4f38-de33-51b7bf1398c9"
      },
      "execution_count": null,
      "outputs": [
        {
          "output_type": "execute_result",
          "data": {
            "text/plain": [
              "Unnamed: 0  carat  cut        color  clarity  depth  table  price  x     y     z   \n",
              "1           0.23   Ideal      E      SI2      61.5   55.0   326    3.95  3.98  2.43    1\n",
              "35978       0.35   Very Good  G      VVS1     59.3   61.0   921    4.58  4.62  2.73    1\n",
              "35954       0.30   Ideal      F      SI1      61.4   58.0   475    4.30  4.33  2.65    1\n",
              "35955       0.30   Ideal      F      SI1      62.5   56.0   475    4.28  4.30  2.68    1\n",
              "35956       0.30   Ideal      F      SI1      62.5   57.0   475    4.30  4.31  2.69    1\n",
              "                                                                                      ..\n",
              "17984       1.06   Premium    E      VS2      61.3   58.0   7275   6.52  6.56  4.01    1\n",
              "17985       1.07   Ideal      G      VS2      61.9   55.0   7275   6.55  6.57  4.06    1\n",
              "17986       1.07   Ideal      G      VS2      61.4   57.0   7275   6.56  6.63  4.05    1\n",
              "17987       1.06   Ideal      E      VS2      61.9   55.0   7275   6.54  6.58  4.06    1\n",
              "53940       0.75   Ideal      D      SI2      62.2   55.0   2757   5.83  5.87  3.64    1\n",
              "Length: 53940, dtype: int64"
            ]
          },
          "metadata": {},
          "execution_count": 3
        }
      ]
    },
    {
      "cell_type": "code",
      "source": [
        "data1.sample()"
      ],
      "metadata": {
        "colab": {
          "base_uri": "https://localhost:8080/",
          "height": 81
        },
        "id": "WvsKEu_8m-nE",
        "outputId": "453fc896-624a-4c20-b498-63a0cf607f1b"
      },
      "execution_count": null,
      "outputs": [
        {
          "output_type": "execute_result",
          "data": {
            "text/plain": [
              "       Unnamed: 0  carat      cut color clarity  depth  table  price     x  \\\n",
              "23487       23488    1.5  Premium     D     SI1   60.5   59.0  11489  7.44   \n",
              "\n",
              "          y     z  \n",
              "23487  7.39  4.49  "
            ],
            "text/html": [
              "\n",
              "  <div id=\"df-20fddc21-cec5-4938-a30d-72d0acc537ab\">\n",
              "    <div class=\"colab-df-container\">\n",
              "      <div>\n",
              "<style scoped>\n",
              "    .dataframe tbody tr th:only-of-type {\n",
              "        vertical-align: middle;\n",
              "    }\n",
              "\n",
              "    .dataframe tbody tr th {\n",
              "        vertical-align: top;\n",
              "    }\n",
              "\n",
              "    .dataframe thead th {\n",
              "        text-align: right;\n",
              "    }\n",
              "</style>\n",
              "<table border=\"1\" class=\"dataframe\">\n",
              "  <thead>\n",
              "    <tr style=\"text-align: right;\">\n",
              "      <th></th>\n",
              "      <th>Unnamed: 0</th>\n",
              "      <th>carat</th>\n",
              "      <th>cut</th>\n",
              "      <th>color</th>\n",
              "      <th>clarity</th>\n",
              "      <th>depth</th>\n",
              "      <th>table</th>\n",
              "      <th>price</th>\n",
              "      <th>x</th>\n",
              "      <th>y</th>\n",
              "      <th>z</th>\n",
              "    </tr>\n",
              "  </thead>\n",
              "  <tbody>\n",
              "    <tr>\n",
              "      <th>23487</th>\n",
              "      <td>23488</td>\n",
              "      <td>1.5</td>\n",
              "      <td>Premium</td>\n",
              "      <td>D</td>\n",
              "      <td>SI1</td>\n",
              "      <td>60.5</td>\n",
              "      <td>59.0</td>\n",
              "      <td>11489</td>\n",
              "      <td>7.44</td>\n",
              "      <td>7.39</td>\n",
              "      <td>4.49</td>\n",
              "    </tr>\n",
              "  </tbody>\n",
              "</table>\n",
              "</div>\n",
              "      <button class=\"colab-df-convert\" onclick=\"convertToInteractive('df-20fddc21-cec5-4938-a30d-72d0acc537ab')\"\n",
              "              title=\"Convert this dataframe to an interactive table.\"\n",
              "              style=\"display:none;\">\n",
              "        \n",
              "  <svg xmlns=\"http://www.w3.org/2000/svg\" height=\"24px\"viewBox=\"0 0 24 24\"\n",
              "       width=\"24px\">\n",
              "    <path d=\"M0 0h24v24H0V0z\" fill=\"none\"/>\n",
              "    <path d=\"M18.56 5.44l.94 2.06.94-2.06 2.06-.94-2.06-.94-.94-2.06-.94 2.06-2.06.94zm-11 1L8.5 8.5l.94-2.06 2.06-.94-2.06-.94L8.5 2.5l-.94 2.06-2.06.94zm10 10l.94 2.06.94-2.06 2.06-.94-2.06-.94-.94-2.06-.94 2.06-2.06.94z\"/><path d=\"M17.41 7.96l-1.37-1.37c-.4-.4-.92-.59-1.43-.59-.52 0-1.04.2-1.43.59L10.3 9.45l-7.72 7.72c-.78.78-.78 2.05 0 2.83L4 21.41c.39.39.9.59 1.41.59.51 0 1.02-.2 1.41-.59l7.78-7.78 2.81-2.81c.8-.78.8-2.07 0-2.86zM5.41 20L4 18.59l7.72-7.72 1.47 1.35L5.41 20z\"/>\n",
              "  </svg>\n",
              "      </button>\n",
              "      \n",
              "  <style>\n",
              "    .colab-df-container {\n",
              "      display:flex;\n",
              "      flex-wrap:wrap;\n",
              "      gap: 12px;\n",
              "    }\n",
              "\n",
              "    .colab-df-convert {\n",
              "      background-color: #E8F0FE;\n",
              "      border: none;\n",
              "      border-radius: 50%;\n",
              "      cursor: pointer;\n",
              "      display: none;\n",
              "      fill: #1967D2;\n",
              "      height: 32px;\n",
              "      padding: 0 0 0 0;\n",
              "      width: 32px;\n",
              "    }\n",
              "\n",
              "    .colab-df-convert:hover {\n",
              "      background-color: #E2EBFA;\n",
              "      box-shadow: 0px 1px 2px rgba(60, 64, 67, 0.3), 0px 1px 3px 1px rgba(60, 64, 67, 0.15);\n",
              "      fill: #174EA6;\n",
              "    }\n",
              "\n",
              "    [theme=dark] .colab-df-convert {\n",
              "      background-color: #3B4455;\n",
              "      fill: #D2E3FC;\n",
              "    }\n",
              "\n",
              "    [theme=dark] .colab-df-convert:hover {\n",
              "      background-color: #434B5C;\n",
              "      box-shadow: 0px 1px 3px 1px rgba(0, 0, 0, 0.15);\n",
              "      filter: drop-shadow(0px 1px 2px rgba(0, 0, 0, 0.3));\n",
              "      fill: #FFFFFF;\n",
              "    }\n",
              "  </style>\n",
              "\n",
              "      <script>\n",
              "        const buttonEl =\n",
              "          document.querySelector('#df-20fddc21-cec5-4938-a30d-72d0acc537ab button.colab-df-convert');\n",
              "        buttonEl.style.display =\n",
              "          google.colab.kernel.accessAllowed ? 'block' : 'none';\n",
              "\n",
              "        async function convertToInteractive(key) {\n",
              "          const element = document.querySelector('#df-20fddc21-cec5-4938-a30d-72d0acc537ab');\n",
              "          const dataTable =\n",
              "            await google.colab.kernel.invokeFunction('convertToInteractive',\n",
              "                                                     [key], {});\n",
              "          if (!dataTable) return;\n",
              "\n",
              "          const docLinkHtml = 'Like what you see? Visit the ' +\n",
              "            '<a target=\"_blank\" href=https://colab.research.google.com/notebooks/data_table.ipynb>data table notebook</a>'\n",
              "            + ' to learn more about interactive tables.';\n",
              "          element.innerHTML = '';\n",
              "          dataTable['output_type'] = 'display_data';\n",
              "          await google.colab.output.renderOutput(dataTable, element);\n",
              "          const docLink = document.createElement('div');\n",
              "          docLink.innerHTML = docLinkHtml;\n",
              "          element.appendChild(docLink);\n",
              "        }\n",
              "      </script>\n",
              "    </div>\n",
              "  </div>\n",
              "  "
            ]
          },
          "metadata": {},
          "execution_count": 4
        }
      ]
    },
    {
      "cell_type": "code",
      "source": [
        "data1.info()"
      ],
      "metadata": {
        "colab": {
          "base_uri": "https://localhost:8080/"
        },
        "id": "aGwM8Hb7nJHD",
        "outputId": "0c9913cb-d323-4d77-8858-63706da812af"
      },
      "execution_count": null,
      "outputs": [
        {
          "output_type": "stream",
          "name": "stdout",
          "text": [
            "<class 'pandas.core.frame.DataFrame'>\n",
            "RangeIndex: 53940 entries, 0 to 53939\n",
            "Data columns (total 11 columns):\n",
            " #   Column      Non-Null Count  Dtype  \n",
            "---  ------      --------------  -----  \n",
            " 0   Unnamed: 0  53940 non-null  int64  \n",
            " 1   carat       53940 non-null  float64\n",
            " 2   cut         53940 non-null  object \n",
            " 3   color       53940 non-null  object \n",
            " 4   clarity     53940 non-null  object \n",
            " 5   depth       53940 non-null  float64\n",
            " 6   table       53940 non-null  float64\n",
            " 7   price       53940 non-null  int64  \n",
            " 8   x           53940 non-null  float64\n",
            " 9   y           53940 non-null  float64\n",
            " 10  z           53940 non-null  float64\n",
            "dtypes: float64(6), int64(2), object(3)\n",
            "memory usage: 4.5+ MB\n"
          ]
        }
      ]
    },
    {
      "cell_type": "code",
      "source": [
        "data1.isnull().sum(axis=0)"
      ],
      "metadata": {
        "colab": {
          "base_uri": "https://localhost:8080/"
        },
        "id": "idRwByQXnmCO",
        "outputId": "6cf1c926-0154-471a-9a28-86f80d276093"
      },
      "execution_count": null,
      "outputs": [
        {
          "output_type": "execute_result",
          "data": {
            "text/plain": [
              "Unnamed: 0    0\n",
              "carat         0\n",
              "cut           0\n",
              "color         0\n",
              "clarity       0\n",
              "depth         0\n",
              "table         0\n",
              "price         0\n",
              "x             0\n",
              "y             0\n",
              "z             0\n",
              "dtype: int64"
            ]
          },
          "metadata": {},
          "execution_count": 6
        }
      ]
    },
    {
      "cell_type": "code",
      "source": [
        "data1.isnull().sum(axis=1)"
      ],
      "metadata": {
        "colab": {
          "base_uri": "https://localhost:8080/"
        },
        "id": "sKs0B0VEvsOP",
        "outputId": "776bdf84-557c-4922-ec04-c4cfc2d28b96"
      },
      "execution_count": null,
      "outputs": [
        {
          "output_type": "execute_result",
          "data": {
            "text/plain": [
              "0        0\n",
              "1        0\n",
              "2        0\n",
              "3        0\n",
              "4        0\n",
              "        ..\n",
              "53935    0\n",
              "53936    0\n",
              "53937    0\n",
              "53938    0\n",
              "53939    0\n",
              "Length: 53940, dtype: int64"
            ]
          },
          "metadata": {},
          "execution_count": 7
        }
      ]
    },
    {
      "cell_type": "code",
      "source": [
        "data1.dtypes"
      ],
      "metadata": {
        "colab": {
          "base_uri": "https://localhost:8080/"
        },
        "id": "Ay34IbMHmCWj",
        "outputId": "44bae2c3-cc79-4ddb-aaed-2437a7d5e4bc"
      },
      "execution_count": null,
      "outputs": [
        {
          "output_type": "execute_result",
          "data": {
            "text/plain": [
              "Unnamed: 0      int64\n",
              "carat         float64\n",
              "cut            object\n",
              "color          object\n",
              "clarity        object\n",
              "depth         float64\n",
              "table         float64\n",
              "price           int64\n",
              "x             float64\n",
              "y             float64\n",
              "z             float64\n",
              "dtype: object"
            ]
          },
          "metadata": {},
          "execution_count": 9
        }
      ]
    },
    {
      "cell_type": "code",
      "source": [
        "A = pd.read_csv('diamonds.csv')\n",
        "data1 = A['cut']\n",
        "\n",
        "plt.hist(data1, bins = 10)\n",
        "\n",
        "plt.xlabel('TYPE OF CUT')\n",
        "plt.ylabel('NUMBER OF SAMPLES')\n",
        "plt.title('HISTOGRAM', fontsize = 20)\n",
        "plt.grid()\n",
        "\n",
        "plt.show()"
      ],
      "metadata": {
        "colab": {
          "base_uri": "https://localhost:8080/",
          "height": 300
        },
        "id": "5s-0o-gN7XU8",
        "outputId": "06760f57-bd6e-49b6-8111-8a3de72dbb49"
      },
      "execution_count": null,
      "outputs": [
        {
          "output_type": "display_data",
          "data": {
            "text/plain": [
              "<Figure size 432x288 with 1 Axes>"
            ],
            "image/png": "[encoded data removed]"
          },
          "metadata": {
            "needs_background": "light"
          }
        }
      ]
    },
    {
      "cell_type": "code",
      "source": [
        "fig, ax = plt.subplots(figsize=(10, 6))\n",
        "ax.scatter(x = A['price'], y = A['carat'])\n",
        "plt.xlabel(\"PRICE OF THE DIAMOND\")\n",
        "plt.ylabel(\"CARAT OF THE DIAMOND\")\n",
        "plt.title('SCATTER', fontsize = 20)\n",
        "plt.grid()\n",
        "\n",
        "plt.show()"
      ],
      "metadata": {
        "colab": {
          "base_uri": "https://localhost:8080/",
          "height": 408
        },
        "id": "rHo-BvZh0vy8",
        "outputId": "f8dc8239-f6de-400e-895a-cd44bf15b87a"
      },
      "execution_count": null,
      "outputs": [
        {
          "output_type": "display_data",
          "data": {
            "text/plain": [
              "<Figure size 720x432 with 1 Axes>"
            ],
            "image/png": "[encoded data removed]"
          },
          "metadata": {
            "needs_background": "light"
          }
        }
      ]
    },
    {
      "cell_type": "code",
      "source": [
        "Y = A.groupby(A[\"cut\"])[\"carat\"].sum()\n",
        "plt.axis('equal');\n",
        "plt.pie(Y, labels=Y.index ,autopct='%.0f%%');\n",
        "plt.title('PIE CHART', fontsize = 20)\n",
        "plt.show()"
      ],
      "metadata": {
        "colab": {
          "base_uri": "https://localhost:8080/",
          "height": 268
        },
        "id": "Yw0xmmvV1a70",
        "outputId": "40edbf83-16fb-48fb-a2ae-7d661515fa6e"
      },
      "execution_count": null,
      "outputs": [
        {
          "output_type": "display_data",
          "data": {
            "text/plain": [
              "<Figure size 432x288 with 1 Axes>"
            ],
            "image/png": "[encoded data removed]"
          },
          "metadata": {}
        }
      ]
    },
    {
      "cell_type": "code",
      "source": [
        "price = A[\"price\"]\n",
        "carat = A['carat']\n",
        "table = A['table']\n",
        "depth = A['depth']\n",
        "\n",
        "columns = [price, carat, table, depth]\n",
        "\n",
        "fig, ax = plt.subplots()\n",
        "ax.boxplot(columns)\n",
        "plt.title('BOX PLOT', fontsize = 20)\n",
        "plt.show()"
      ],
      "metadata": {
        "colab": {
          "base_uri": "https://localhost:8080/",
          "height": 285
        },
        "id": "JX0NiGVd5lEK",
        "outputId": "da5c3fdb-0592-40df-fdfd-771022cb1f2f"
      },
      "execution_count": null,
      "outputs": [
        {
          "output_type": "display_data",
          "data": {
            "text/plain": [
              "<Figure size 432x288 with 1 Axes>"
            ],
            "image/png": "[encoded data removed]"
          },
          "metadata": {
            "needs_background": "light"
          }
        }
      ]
    },
    {
      "cell_type": "code",
      "source": [
        "carat = A.carat\n",
        "price = A.price\n",
        "\n",
        "fig, ax = plt.subplots()\n",
        "\n",
        "ax.violinplot([price, carat])\n",
        "\n",
        "plt.title('VOILIN PLOT', fontsize = 20)\n",
        "plt.show()"
      ],
      "metadata": {
        "colab": {
          "base_uri": "https://localhost:8080/",
          "height": 285
        },
        "id": "SxuKtZlv9UsN",
        "outputId": "49a04488-be68-4ffe-ef32-4ddf9cc4c3e4"
      },
      "execution_count": null,
      "outputs": [
        {
          "output_type": "display_data",
          "data": {
            "text/plain": [
              "<Figure size 432x288 with 1 Axes>"
            ],
            "image/png": "[encoded data removed]"
          },
          "metadata": {
            "needs_background": "light"
          }
        }
      ]
    },
    {
      "cell_type": "markdown",
      "source": [
        "The dataset use for below analysis is winequality-red.csv"
      ],
      "metadata": {
        "id": "s_ijcfyBJv3f"
      }
    },
    {
      "cell_type": "code",
      "source": [
        "#Part II: Data Analysis – Wine Quality - Red\n",
        "\n",
        "import numpy as np\n",
        "import pandas as pd\n",
        "import os\n",
        "import matplotlib.pyplot as plt\n",
        "import matplotlib as map\n",
        "\n",
        "\n",
        "data1 = pd.read_csv('winequality-red.csv')\n",
        "\n",
        "data1.describe()"
      ],
      "metadata": {
        "colab": {
          "base_uri": "https://localhost:8080/",
          "height": 300
        },
        "id": "hg33br0GJ6ur",
        "outputId": "34cdeda4-6353-4b75-d507-8679a8c981e7"
      },
      "execution_count": null,
      "outputs": [
        {
          "output_type": "execute_result",
          "data": {
            "text/plain": [
              "       fixed acidity  volatile acidity  citric acid  residual sugar  \\\n",
              "count    1599.000000       1599.000000  1599.000000     1599.000000   \n",
              "mean        8.319637          0.527821     0.270976        2.538806   \n",
              "std         1.741096          0.179060     0.194801        1.409928   \n",
              "min         4.600000          0.120000     0.000000        0.900000   \n",
              "25%         7.100000          0.390000     0.090000        1.900000   \n",
              "50%         7.900000          0.520000     0.260000        2.200000   \n",
              "75%         9.200000          0.640000     0.420000        2.600000   \n",
              "max        15.900000          1.580000     1.000000       15.500000   \n",
              "\n",
              "         chlorides  free sulfur dioxide  total sulfur dioxide      density  \\\n",
              "count  1599.000000          1599.000000           1599.000000  1599.000000   \n",
              "mean      0.087467            15.874922             46.467792     0.996747   \n",
              "std       0.047065            10.460157             32.895324     0.001887   \n",
              "min       0.012000             1.000000              6.000000     0.990070   \n",
              "25%       0.070000             7.000000             22.000000     0.995600   \n",
              "50%       0.079000            14.000000             38.000000     0.996750   \n",
              "75%       0.090000            21.000000             62.000000     0.997835   \n",
              "max       0.611000            72.000000            289.000000     1.003690   \n",
              "\n",
              "                pH    sulphates      alcohol      quality  \n",
              "count  1599.000000  1599.000000  1599.000000  1599.000000  \n",
              "mean      3.311113     0.658149    10.422983     5.636023  \n",
              "std       0.154386     0.169507     1.065668     0.807569  \n",
              "min       2.740000     0.330000     8.400000     3.000000  \n",
              "25%       3.210000     0.550000     9.500000     5.000000  \n",
              "50%       3.310000     0.620000    10.200000     6.000000  \n",
              "75%       3.400000     0.730000    11.100000     6.000000  \n",
              "max       4.010000     2.000000    14.900000     8.000000  "
            ],
            "text/html": [
              "\n",
              "  <div id=\"df-6920bfbb-42db-4b5f-8b26-9b1643e8a287\">\n",
              "    <div class=\"colab-df-container\">\n",
              "      <div>\n",
              "<style scoped>\n",
              "    .dataframe tbody tr th:only-of-type {\n",
              "        vertical-align: middle;\n",
              "    }\n",
              "\n",
              "    .dataframe tbody tr th {\n",
              "        vertical-align: top;\n",
              "    }\n",
              "\n",
              "    .dataframe thead th {\n",
              "        text-align: right;\n",
              "    }\n",
              "</style>\n",
              "<table border=\"1\" class=\"dataframe\">\n",
              "  <thead>\n",
              "    <tr style=\"text-align: right;\">\n",
              "      <th></th>\n",
              "      <th>fixed acidity</th>\n",
              "      <th>volatile acidity</th>\n",
              "      <th>citric acid</th>\n",
              "      <th>residual sugar</th>\n",
              "      <th>chlorides</th>\n",
              "      <th>free sulfur dioxide</th>\n",
              "      <th>total sulfur dioxide</th>\n",
              "      <th>density</th>\n",
              "      <th>pH</th>\n",
              "      <th>sulphates</th>\n",
              "      <th>alcohol</th>\n",
              "      <th>quality</th>\n",
              "    </tr>\n",
              "  </thead>\n",
              "  <tbody>\n",
              "    <tr>\n",
              "      <th>count</th>\n",
              "      <td>1599.000000</td>\n",
              "      <td>1599.000000</td>\n",
              "      <td>1599.000000</td>\n",
              "      <td>1599.000000</td>\n",
              "      <td>1599.000000</td>\n",
              "      <td>1599.000000</td>\n",
              "      <td>1599.000000</td>\n",
              "      <td>1599.000000</td>\n",
              "      <td>1599.000000</td>\n",
              "      <td>1599.000000</td>\n",
              "      <td>1599.000000</td>\n",
              "      <td>1599.000000</td>\n",
              "    </tr>\n",
              "    <tr>\n",
              "      <th>mean</th>\n",
              "      <td>8.319637</td>\n",
              "      <td>0.527821</td>\n",
              "      <td>0.270976</td>\n",
              "      <td>2.538806</td>\n",
              "      <td>0.087467</td>\n",
              "      <td>15.874922</td>\n",
              "      <td>46.467792</td>\n",
              "      <td>0.996747</td>\n",
              "      <td>3.311113</td>\n",
              "      <td>0.658149</td>\n",
              "      <td>10.422983</td>\n",
              "      <td>5.636023</td>\n",
              "    </tr>\n",
              "    <tr>\n",
              "      <th>std</th>\n",
              "      <td>1.741096</td>\n",
              "      <td>0.179060</td>\n",
              "      <td>0.194801</td>\n",
              "      <td>1.409928</td>\n",
              "      <td>0.047065</td>\n",
              "      <td>10.460157</td>\n",
              "      <td>32.895324</td>\n",
              "      <td>0.001887</td>\n",
              "      <td>0.154386</td>\n",
              "      <td>0.169507</td>\n",
              "      <td>1.065668</td>\n",
              "      <td>0.807569</td>\n",
              "    </tr>\n",
              "    <tr>\n",
              "      <th>min</th>\n",
              "      <td>4.600000</td>\n",
              "      <td>0.120000</td>\n",
              "      <td>0.000000</td>\n",
              "      <td>0.900000</td>\n",
              "      <td>0.012000</td>\n",
              "      <td>1.000000</td>\n",
              "      <td>6.000000</td>\n",
              "      <td>0.990070</td>\n",
              "      <td>2.740000</td>\n",
              "      <td>0.330000</td>\n",
              "      <td>8.400000</td>\n",
              "      <td>3.000000</td>\n",
              "    </tr>\n",
              "    <tr>\n",
              "      <th>25%</th>\n",
              "      <td>7.100000</td>\n",
              "      <td>0.390000</td>\n",
              "      <td>0.090000</td>\n",
              "      <td>1.900000</td>\n",
              "      <td>0.070000</td>\n",
              "      <td>7.000000</td>\n",
              "      <td>22.000000</td>\n",
              "      <td>0.995600</td>\n",
              "      <td>3.210000</td>\n",
              "      <td>0.550000</td>\n",
              "      <td>9.500000</td>\n",
              "      <td>5.000000</td>\n",
              "    </tr>\n",
              "    <tr>\n",
              "      <th>50%</th>\n",
              "      <td>7.900000</td>\n",
              "      <td>0.520000</td>\n",
              "      <td>0.260000</td>\n",
              "      <td>2.200000</td>\n",
              "      <td>0.079000</td>\n",
              "      <td>14.000000</td>\n",
              "      <td>38.000000</td>\n",
              "      <td>0.996750</td>\n",
              "      <td>3.310000</td>\n",
              "      <td>0.620000</td>\n",
              "      <td>10.200000</td>\n",
              "      <td>6.000000</td>\n",
              "    </tr>\n",
              "    <tr>\n",
              "      <th>75%</th>\n",
              "      <td>9.200000</td>\n",
              "      <td>0.640000</td>\n",
              "      <td>0.420000</td>\n",
              "      <td>2.600000</td>\n",
              "      <td>0.090000</td>\n",
              "      <td>21.000000</td>\n",
              "      <td>62.000000</td>\n",
              "      <td>0.997835</td>\n",
              "      <td>3.400000</td>\n",
              "      <td>0.730000</td>\n",
              "      <td>11.100000</td>\n",
              "      <td>6.000000</td>\n",
              "    </tr>\n",
              "    <tr>\n",
              "      <th>max</th>\n",
              "      <td>15.900000</td>\n",
              "      <td>1.580000</td>\n",
              "      <td>1.000000</td>\n",
              "      <td>15.500000</td>\n",
              "      <td>0.611000</td>\n",
              "      <td>72.000000</td>\n",
              "      <td>289.000000</td>\n",
              "      <td>1.003690</td>\n",
              "      <td>4.010000</td>\n",
              "      <td>2.000000</td>\n",
              "      <td>14.900000</td>\n",
              "      <td>8.000000</td>\n",
              "    </tr>\n",
              "  </tbody>\n",
              "</table>\n",
              "</div>\n",
              "      <button class=\"colab-df-convert\" onclick=\"convertToInteractive('df-6920bfbb-42db-4b5f-8b26-9b1643e8a287')\"\n",
              "              title=\"Convert this dataframe to an interactive table.\"\n",
              "              style=\"display:none;\">\n",
              "        \n",
              "  <svg xmlns=\"http://www.w3.org/2000/svg\" height=\"24px\"viewBox=\"0 0 24 24\"\n",
              "       width=\"24px\">\n",
              "    <path d=\"M0 0h24v24H0V0z\" fill=\"none\"/>\n",
              "    <path d=\"M18.56 5.44l.94 2.06.94-2.06 2.06-.94-2.06-.94-.94-2.06-.94 2.06-2.06.94zm-11 1L8.5 8.5l.94-2.06 2.06-.94-2.06-.94L8.5 2.5l-.94 2.06-2.06.94zm10 10l.94 2.06.94-2.06 2.06-.94-2.06-.94-.94-2.06-.94 2.06-2.06.94z\"/><path d=\"M17.41 7.96l-1.37-1.37c-.4-.4-.92-.59-1.43-.59-.52 0-1.04.2-1.43.59L10.3 9.45l-7.72 7.72c-.78.78-.78 2.05 0 2.83L4 21.41c.39.39.9.59 1.41.59.51 0 1.02-.2 1.41-.59l7.78-7.78 2.81-2.81c.8-.78.8-2.07 0-2.86zM5.41 20L4 18.59l7.72-7.72 1.47 1.35L5.41 20z\"/>\n",
              "  </svg>\n",
              "      </button>\n",
              "      \n",
              "  <style>\n",
              "    .colab-df-container {\n",
              "      display:flex;\n",
              "      flex-wrap:wrap;\n",
              "      gap: 12px;\n",
              "    }\n",
              "\n",
              "    .colab-df-convert {\n",
              "      background-color: #E8F0FE;\n",
              "      border: none;\n",
              "      border-radius: 50%;\n",
              "      cursor: pointer;\n",
              "      display: none;\n",
              "      fill: #1967D2;\n",
              "      height: 32px;\n",
              "      padding: 0 0 0 0;\n",
              "      width: 32px;\n",
              "    }\n",
              "\n",
              "    .colab-df-convert:hover {\n",
              "      background-color: #E2EBFA;\n",
              "      box-shadow: 0px 1px 2px rgba(60, 64, 67, 0.3), 0px 1px 3px 1px rgba(60, 64, 67, 0.15);\n",
              "      fill: #174EA6;\n",
              "    }\n",
              "\n",
              "    [theme=dark] .colab-df-convert {\n",
              "      background-color: #3B4455;\n",
              "      fill: #D2E3FC;\n",
              "    }\n",
              "\n",
              "    [theme=dark] .colab-df-convert:hover {\n",
              "      background-color: #434B5C;\n",
              "      box-shadow: 0px 1px 3px 1px rgba(0, 0, 0, 0.15);\n",
              "      filter: drop-shadow(0px 1px 2px rgba(0, 0, 0, 0.3));\n",
              "      fill: #FFFFFF;\n",
              "    }\n",
              "  </style>\n",
              "\n",
              "      <script>\n",
              "        const buttonEl =\n",
              "          document.querySelector('#df-6920bfbb-42db-4b5f-8b26-9b1643e8a287 button.colab-df-convert');\n",
              "        buttonEl.style.display =\n",
              "          google.colab.kernel.accessAllowed ? 'block' : 'none';\n",
              "\n",
              "        async function convertToInteractive(key) {\n",
              "          const element = document.querySelector('#df-6920bfbb-42db-4b5f-8b26-9b1643e8a287');\n",
              "          const dataTable =\n",
              "            await google.colab.kernel.invokeFunction('convertToInteractive',\n",
              "                                                     [key], {});\n",
              "          if (!dataTable) return;\n",
              "\n",
              "          const docLinkHtml = 'Like what you see? Visit the ' +\n",
              "            '<a target=\"_blank\" href=https://colab.research.google.com/notebooks/data_table.ipynb>data table notebook</a>'\n",
              "            + ' to learn more about interactive tables.';\n",
              "          element.innerHTML = '';\n",
              "          dataTable['output_type'] = 'display_data';\n",
              "          await google.colab.output.renderOutput(dataTable, element);\n",
              "          const docLink = document.createElement('div');\n",
              "          docLink.innerHTML = docLinkHtml;\n",
              "          element.appendChild(docLink);\n",
              "        }\n",
              "      </script>\n",
              "    </div>\n",
              "  </div>\n",
              "  "
            ]
          },
          "metadata": {},
          "execution_count": 17
        }
      ]
    },
    {
      "cell_type": "code",
      "source": [
        "data1.max()"
      ],
      "metadata": {
        "colab": {
          "base_uri": "https://localhost:8080/"
        },
        "id": "DiOWcgkJKTu4",
        "outputId": "965e54c8-6c21-456c-8d85-4abfa3749e4f"
      },
      "execution_count": null,
      "outputs": [
        {
          "output_type": "execute_result",
          "data": {
            "text/plain": [
              "fixed acidity            15.90000\n",
              "volatile acidity          1.58000\n",
              "citric acid               1.00000\n",
              "residual sugar           15.50000\n",
              "chlorides                 0.61100\n",
              "free sulfur dioxide      72.00000\n",
              "total sulfur dioxide    289.00000\n",
              "density                   1.00369\n",
              "pH                        4.01000\n",
              "sulphates                 2.00000\n",
              "alcohol                  14.90000\n",
              "quality                   8.00000\n",
              "dtype: float64"
            ]
          },
          "metadata": {},
          "execution_count": 18
        }
      ]
    },
    {
      "cell_type": "code",
      "source": [
        "data1.value_counts()"
      ],
      "metadata": {
        "colab": {
          "base_uri": "https://localhost:8080/"
        },
        "id": "sj2tgZ3aKXs5",
        "outputId": "05867479-57cd-4502-b894-2d568dda562f"
      },
      "execution_count": null,
      "outputs": [
        {
          "output_type": "execute_result",
          "data": {
            "text/plain": [
              "fixed acidity  volatile acidity  citric acid  residual sugar  chlorides  free sulfur dioxide  total sulfur dioxide  density  pH    sulphates  alcohol  quality\n",
              "7.5            0.510             0.02         1.7             0.084      13.0                 31.0                  0.99538  3.36  0.54       10.5     6          4\n",
              "6.7            0.460             0.24         1.7             0.077      18.0                 34.0                  0.99480  3.39  0.60       10.6     6          4\n",
              "7.2            0.360             0.46         2.1             0.074      24.0                 44.0                  0.99534  3.40  0.85       11.0     7          4\n",
              "               0.695             0.13         2.0             0.076      12.0                 20.0                  0.99546  3.29  0.54       10.1     5          4\n",
              "8.3            0.650             0.10         2.9             0.089      17.0                 40.0                  0.99803  3.29  0.55       9.5      5          3\n",
              "                                                                                                                                                                 ..\n",
              "7.5            0.430             0.30         2.2             0.062      6.0                  12.0                  0.99495  3.44  0.72       11.5     7          1\n",
              "               0.420             0.32         2.7             0.067      7.0                  25.0                  0.99628  3.24  0.44       10.4     5          1\n",
              "                                 0.31         1.6             0.080      15.0                 42.0                  0.99780  3.31  0.64       9.0      5          1\n",
              "               0.410             0.15         3.7             0.104      29.0                 94.0                  0.99786  3.14  0.58       9.1      5          1\n",
              "15.9           0.360             0.65         7.5             0.096      22.0                 71.0                  0.99760  2.98  0.84       14.9     5          1\n",
              "Length: 1359, dtype: int64"
            ]
          },
          "metadata": {},
          "execution_count": 19
        }
      ]
    },
    {
      "cell_type": "code",
      "source": [
        "data1.sample()"
      ],
      "metadata": {
        "colab": {
          "base_uri": "https://localhost:8080/",
          "height": 81
        },
        "id": "N7sEJCOmKYwp",
        "outputId": "9c78d74d-e0c3-4d50-b2ea-37fb32301494"
      },
      "execution_count": null,
      "outputs": [
        {
          "output_type": "execute_result",
          "data": {
            "text/plain": [
              "     fixed acidity  volatile acidity  citric acid  residual sugar  chlorides  \\\n",
              "119            7.0              0.69         0.08             1.8      0.097   \n",
              "\n",
              "     free sulfur dioxide  total sulfur dioxide  density    pH  sulphates  \\\n",
              "119                 22.0                  89.0   0.9959  3.34       0.54   \n",
              "\n",
              "     alcohol  quality  \n",
              "119      9.2        6  "
            ],
            "text/html": [
              "\n",
              "  <div id=\"df-5e769225-5de2-48c2-9289-770ea1186b25\">\n",
              "    <div class=\"colab-df-container\">\n",
              "      <div>\n",
              "<style scoped>\n",
              "    .dataframe tbody tr th:only-of-type {\n",
              "        vertical-align: middle;\n",
              "    }\n",
              "\n",
              "    .dataframe tbody tr th {\n",
              "        vertical-align: top;\n",
              "    }\n",
              "\n",
              "    .dataframe thead th {\n",
              "        text-align: right;\n",
              "    }\n",
              "</style>\n",
              "<table border=\"1\" class=\"dataframe\">\n",
              "  <thead>\n",
              "    <tr style=\"text-align: right;\">\n",
              "      <th></th>\n",
              "      <th>fixed acidity</th>\n",
              "      <th>volatile acidity</th>\n",
              "      <th>citric acid</th>\n",
              "      <th>residual sugar</th>\n",
              "      <th>chlorides</th>\n",
              "      <th>free sulfur dioxide</th>\n",
              "      <th>total sulfur dioxide</th>\n",
              "      <th>density</th>\n",
              "      <th>pH</th>\n",
              "      <th>sulphates</th>\n",
              "      <th>alcohol</th>\n",
              "      <th>quality</th>\n",
              "    </tr>\n",
              "  </thead>\n",
              "  <tbody>\n",
              "    <tr>\n",
              "      <th>119</th>\n",
              "      <td>7.0</td>\n",
              "      <td>0.69</td>\n",
              "      <td>0.08</td>\n",
              "      <td>1.8</td>\n",
              "      <td>0.097</td>\n",
              "      <td>22.0</td>\n",
              "      <td>89.0</td>\n",
              "      <td>0.9959</td>\n",
              "      <td>3.34</td>\n",
              "      <td>0.54</td>\n",
              "      <td>9.2</td>\n",
              "      <td>6</td>\n",
              "    </tr>\n",
              "  </tbody>\n",
              "</table>\n",
              "</div>\n",
              "      <button class=\"colab-df-convert\" onclick=\"convertToInteractive('df-5e769225-5de2-48c2-9289-770ea1186b25')\"\n",
              "              title=\"Convert this dataframe to an interactive table.\"\n",
              "              style=\"display:none;\">\n",
              "        \n",
              "  <svg xmlns=\"http://www.w3.org/2000/svg\" height=\"24px\"viewBox=\"0 0 24 24\"\n",
              "       width=\"24px\">\n",
              "    <path d=\"M0 0h24v24H0V0z\" fill=\"none\"/>\n",
              "    <path d=\"M18.56 5.44l.94 2.06.94-2.06 2.06-.94-2.06-.94-.94-2.06-.94 2.06-2.06.94zm-11 1L8.5 8.5l.94-2.06 2.06-.94-2.06-.94L8.5 2.5l-.94 2.06-2.06.94zm10 10l.94 2.06.94-2.06 2.06-.94-2.06-.94-.94-2.06-.94 2.06-2.06.94z\"/><path d=\"M17.41 7.96l-1.37-1.37c-.4-.4-.92-.59-1.43-.59-.52 0-1.04.2-1.43.59L10.3 9.45l-7.72 7.72c-.78.78-.78 2.05 0 2.83L4 21.41c.39.39.9.59 1.41.59.51 0 1.02-.2 1.41-.59l7.78-7.78 2.81-2.81c.8-.78.8-2.07 0-2.86zM5.41 20L4 18.59l7.72-7.72 1.47 1.35L5.41 20z\"/>\n",
              "  </svg>\n",
              "      </button>\n",
              "      \n",
              "  <style>\n",
              "    .colab-df-container {\n",
              "      display:flex;\n",
              "      flex-wrap:wrap;\n",
              "      gap: 12px;\n",
              "    }\n",
              "\n",
              "    .colab-df-convert {\n",
              "      background-color: #E8F0FE;\n",
              "      border: none;\n",
              "      border-radius: 50%;\n",
              "      cursor: pointer;\n",
              "      display: none;\n",
              "      fill: #1967D2;\n",
              "      height: 32px;\n",
              "      padding: 0 0 0 0;\n",
              "      width: 32px;\n",
              "    }\n",
              "\n",
              "    .colab-df-convert:hover {\n",
              "      background-color: #E2EBFA;\n",
              "      box-shadow: 0px 1px 2px rgba(60, 64, 67, 0.3), 0px 1px 3px 1px rgba(60, 64, 67, 0.15);\n",
              "      fill: #174EA6;\n",
              "    }\n",
              "\n",
              "    [theme=dark] .colab-df-convert {\n",
              "      background-color: #3B4455;\n",
              "      fill: #D2E3FC;\n",
              "    }\n",
              "\n",
              "    [theme=dark] .colab-df-convert:hover {\n",
              "      background-color: #434B5C;\n",
              "      box-shadow: 0px 1px 3px 1px rgba(0, 0, 0, 0.15);\n",
              "      filter: drop-shadow(0px 1px 2px rgba(0, 0, 0, 0.3));\n",
              "      fill: #FFFFFF;\n",
              "    }\n",
              "  </style>\n",
              "\n",
              "      <script>\n",
              "        const buttonEl =\n",
              "          document.querySelector('#df-5e769225-5de2-48c2-9289-770ea1186b25 button.colab-df-convert');\n",
              "        buttonEl.style.display =\n",
              "          google.colab.kernel.accessAllowed ? 'block' : 'none';\n",
              "\n",
              "        async function convertToInteractive(key) {\n",
              "          const element = document.querySelector('#df-5e769225-5de2-48c2-9289-770ea1186b25');\n",
              "          const dataTable =\n",
              "            await google.colab.kernel.invokeFunction('convertToInteractive',\n",
              "                                                     [key], {});\n",
              "          if (!dataTable) return;\n",
              "\n",
              "          const docLinkHtml = 'Like what you see? Visit the ' +\n",
              "            '<a target=\"_blank\" href=https://colab.research.google.com/notebooks/data_table.ipynb>data table notebook</a>'\n",
              "            + ' to learn more about interactive tables.';\n",
              "          element.innerHTML = '';\n",
              "          dataTable['output_type'] = 'display_data';\n",
              "          await google.colab.output.renderOutput(dataTable, element);\n",
              "          const docLink = document.createElement('div');\n",
              "          docLink.innerHTML = docLinkHtml;\n",
              "          element.appendChild(docLink);\n",
              "        }\n",
              "      </script>\n",
              "    </div>\n",
              "  </div>\n",
              "  "
            ]
          },
          "metadata": {},
          "execution_count": 20
        }
      ]
    },
    {
      "cell_type": "code",
      "source": [
        "data1.info()"
      ],
      "metadata": {
        "colab": {
          "base_uri": "https://localhost:8080/"
        },
        "id": "ruU5oRA5KaZg",
        "outputId": "e9ffd2f9-577c-49d8-aa14-7d817aeaf1b5"
      },
      "execution_count": null,
      "outputs": [
        {
          "output_type": "stream",
          "name": "stdout",
          "text": [
            "<class 'pandas.core.frame.DataFrame'>\n",
            "RangeIndex: 1599 entries, 0 to 1598\n",
            "Data columns (total 12 columns):\n",
            " #   Column                Non-Null Count  Dtype  \n",
            "---  ------                --------------  -----  \n",
            " 0   fixed acidity         1599 non-null   float64\n",
            " 1   volatile acidity      1599 non-null   float64\n",
            " 2   citric acid           1599 non-null   float64\n",
            " 3   residual sugar        1599 non-null   float64\n",
            " 4   chlorides             1599 non-null   float64\n",
            " 5   free sulfur dioxide   1599 non-null   float64\n",
            " 6   total sulfur dioxide  1599 non-null   float64\n",
            " 7   density               1599 non-null   float64\n",
            " 8   pH                    1599 non-null   float64\n",
            " 9   sulphates             1599 non-null   float64\n",
            " 10  alcohol               1599 non-null   float64\n",
            " 11  quality               1599 non-null   int64  \n",
            "dtypes: float64(11), int64(1)\n",
            "memory usage: 150.0 KB\n"
          ]
        }
      ]
    },
    {
      "cell_type": "code",
      "source": [
        "data1.isnull().sum(axis=0)"
      ],
      "metadata": {
        "colab": {
          "base_uri": "https://localhost:8080/"
        },
        "id": "zEovZfOnKgAt",
        "outputId": "2217784a-109c-4e6a-ce7c-f361d02c53db"
      },
      "execution_count": null,
      "outputs": [
        {
          "output_type": "execute_result",
          "data": {
            "text/plain": [
              "fixed acidity           0\n",
              "volatile acidity        0\n",
              "citric acid             0\n",
              "residual sugar          0\n",
              "chlorides               0\n",
              "free sulfur dioxide     0\n",
              "total sulfur dioxide    0\n",
              "density                 0\n",
              "pH                      0\n",
              "sulphates               0\n",
              "alcohol                 0\n",
              "quality                 0\n",
              "dtype: int64"
            ]
          },
          "metadata": {},
          "execution_count": 22
        }
      ]
    },
    {
      "cell_type": "code",
      "source": [
        "data1.isnull().sum(axis=1)"
      ],
      "metadata": {
        "colab": {
          "base_uri": "https://localhost:8080/"
        },
        "id": "FESj_vzbKjs3",
        "outputId": "df830d86-82dc-4590-92d5-45172b2d0bc8"
      },
      "execution_count": null,
      "outputs": [
        {
          "output_type": "execute_result",
          "data": {
            "text/plain": [
              "0       0\n",
              "1       0\n",
              "2       0\n",
              "3       0\n",
              "4       0\n",
              "       ..\n",
              "1594    0\n",
              "1595    0\n",
              "1596    0\n",
              "1597    0\n",
              "1598    0\n",
              "Length: 1599, dtype: int64"
            ]
          },
          "metadata": {},
          "execution_count": 23
        }
      ]
    },
    {
      "cell_type": "code",
      "source": [
        "data1.dtypes"
      ],
      "metadata": {
        "colab": {
          "base_uri": "https://localhost:8080/"
        },
        "id": "Auqzj1n9Klfs",
        "outputId": "127e2d22-7ebf-4920-e0c1-ca6789012318"
      },
      "execution_count": null,
      "outputs": [
        {
          "output_type": "execute_result",
          "data": {
            "text/plain": [
              "fixed acidity           float64\n",
              "volatile acidity        float64\n",
              "citric acid             float64\n",
              "residual sugar          float64\n",
              "chlorides               float64\n",
              "free sulfur dioxide     float64\n",
              "total sulfur dioxide    float64\n",
              "density                 float64\n",
              "pH                      float64\n",
              "sulphates               float64\n",
              "alcohol                 float64\n",
              "quality                   int64\n",
              "dtype: object"
            ]
          },
          "metadata": {},
          "execution_count": 24
        }
      ]
    },
    {
      "cell_type": "code",
      "source": [
        "A = pd.read_csv('winequality-red.csv')\n",
        "data1 = A['quality']\n",
        "\n",
        "plt.hist(data1, bins = 10)\n",
        "\n",
        "plt.xlabel('QUALITY')\n",
        "plt.ylabel('RANKING')\n",
        "plt.title('HISTOGRAM', fontsize = 20)\n",
        "plt.grid()\n",
        "\n",
        "plt.show()"
      ],
      "metadata": {
        "colab": {
          "base_uri": "https://localhost:8080/",
          "height": 300
        },
        "id": "4CNoyCGPKpuv",
        "outputId": "3feca9ef-bba0-43a2-92f0-45c1b26b1293"
      },
      "execution_count": null,
      "outputs": [
        {
          "output_type": "display_data",
          "data": {
            "text/plain": [
              "<Figure size 432x288 with 1 Axes>"
            ],
            "image/png": "[encoded data removed]"
          },
          "metadata": {
            "needs_background": "light"
          }
        }
      ]
    },
    {
      "cell_type": "code",
      "source": [
        "fig, ax = plt.subplots(figsize=(10, 6))\n",
        "ax.scatter(x = A['fixed acidity'], y = A['alcohol'])\n",
        "plt.xlabel(\"FIXED ACIDITY\")\n",
        "plt.ylabel(\"ALCOHOL CONTENT\")\n",
        "plt.title('SCATTER', fontsize = 20)\n",
        "plt.grid()\n",
        "\n",
        "plt.show()"
      ],
      "metadata": {
        "colab": {
          "base_uri": "https://localhost:8080/",
          "height": 408
        },
        "id": "d8M4XkDWLTi0",
        "outputId": "e3f783b6-157c-443b-ac43-19d592a89c21"
      },
      "execution_count": null,
      "outputs": [
        {
          "output_type": "display_data",
          "data": {
            "text/plain": [
              "<Figure size 720x432 with 1 Axes>"
            ],
            "image/png": "[encoded data removed]"
          },
          "metadata": {
            "needs_background": "light"
          }
        }
      ]
    },
    {
      "cell_type": "code",
      "source": [
        "Y = A.groupby(A[\"quality\"])[\"alcohol\"].sum()\n",
        "plt.axis('equal');\n",
        "plt.pie(Y, labels=Y.index ,autopct='%.0f%%');\n",
        "plt.title('PIE CHART', fontsize = 20)\n",
        "plt.show()"
      ],
      "metadata": {
        "colab": {
          "base_uri": "https://localhost:8080/",
          "height": 268
        },
        "id": "nfT7me9cLsC-",
        "outputId": "12a3b4e0-9ae8-4495-8d4e-0a9bbdd48bd1"
      },
      "execution_count": null,
      "outputs": [
        {
          "output_type": "display_data",
          "data": {
            "text/plain": [
              "<Figure size 432x288 with 1 Axes>"
            ],
            "image/png": "[encoded data removed]"
          },
          "metadata": {}
        }
      ]
    },
    {
      "cell_type": "code",
      "source": [
        "B = A[\"quality\"]\n",
        "C = A['alcohol']\n",
        "D = A['fixed acidity']\n",
        "E = A['pH']\n",
        "\n",
        "columns = [B, C, D, E]\n",
        "\n",
        "fig, ax = plt.subplots()\n",
        "ax.boxplot(columns)\n",
        "plt.title('BOX PLOT', fontsize = 20)\n",
        "plt.show()"
      ],
      "metadata": {
        "colab": {
          "base_uri": "https://localhost:8080/",
          "height": 285
        },
        "id": "3jY2CPiUL4bl",
        "outputId": "c8e679d3-f035-4240-ab32-0454efd04f8d"
      },
      "execution_count": null,
      "outputs": [
        {
          "output_type": "display_data",
          "data": {
            "text/plain": [
              "<Figure size 432x288 with 1 Axes>"
            ],
            "image/png": "[encoded data removed]"
          },
          "metadata": {
            "needs_background": "light"
          }
        }
      ]
    },
    {
      "cell_type": "code",
      "source": [
        "C = A.quality\n",
        "D = A.pH\n",
        "\n",
        "fig, ax = plt.subplots()\n",
        "\n",
        "ax.violinplot([C, D])\n",
        "\n",
        "plt.title('VOILIN PLOT', fontsize = 20)\n",
        "plt.show()"
      ],
      "metadata": {
        "colab": {
          "base_uri": "https://localhost:8080/",
          "height": 285
        },
        "id": "bal5fK82MLL4",
        "outputId": "2cf64c20-97de-4b03-a815-c47df9e013c2"
      },
      "execution_count": null,
      "outputs": [
        {
          "output_type": "display_data",
          "data": {
            "text/plain": [
              "<Figure size 432x288 with 1 Axes>"
            ],
            "image/png": "[encoded data removed]"
          },
          "metadata": {
            "needs_background": "light"
          }
        }
      ]
    },
    {
      "cell_type": "markdown",
      "source": [
        "The dataset use for below analysis is Amazon_top_sellng_book.csv"
      ],
      "metadata": {
        "id": "rvtWwl0wMaTC"
      }
    },
    {
      "cell_type": "code",
      "source": [
        "#Part III: Data Analysis – Amazon Top Selling Book\n",
        "\n",
        "import numpy as np\n",
        "import pandas as pd\n",
        "import os\n",
        "import matplotlib.pyplot as plt\n",
        "import matplotlib as map\n",
        "\n",
        "\n",
        "data1 = pd.read_csv('Amazon_top_selling_book.csv')\n",
        "\n",
        "data1.describe()"
      ],
      "metadata": {
        "colab": {
          "base_uri": "https://localhost:8080/",
          "height": 300
        },
        "id": "lPikmnuDOAy1",
        "outputId": "1b92f5a6-282f-41e1-ff9b-5250833edbaf"
      },
      "execution_count": null,
      "outputs": [
        {
          "output_type": "execute_result",
          "data": {
            "text/plain": [
              "       User Rating       Reviews       Price         Year\n",
              "count   550.000000    550.000000  550.000000   550.000000\n",
              "mean      4.618364  11953.281818   13.100000  2014.000000\n",
              "std       0.226980  11731.132017   10.842262     3.165156\n",
              "min       3.300000     37.000000    0.000000  2009.000000\n",
              "25%       4.500000   4058.000000    7.000000  2011.000000\n",
              "50%       4.700000   8580.000000   11.000000  2014.000000\n",
              "75%       4.800000  17253.250000   16.000000  2017.000000\n",
              "max       4.900000  87841.000000  105.000000  2019.000000"
            ],
            "text/html": [
              "\n",
              "  <div id=\"df-eb84846a-9a45-4b0c-a7a3-d0fb85a292f9\">\n",
              "    <div class=\"colab-df-container\">\n",
              "      <div>\n",
              "<style scoped>\n",
              "    .dataframe tbody tr th:only-of-type {\n",
              "        vertical-align: middle;\n",
              "    }\n",
              "\n",
              "    .dataframe tbody tr th {\n",
              "        vertical-align: top;\n",
              "    }\n",
              "\n",
              "    .dataframe thead th {\n",
              "        text-align: right;\n",
              "    }\n",
              "</style>\n",
              "<table border=\"1\" class=\"dataframe\">\n",
              "  <thead>\n",
              "    <tr style=\"text-align: right;\">\n",
              "      <th></th>\n",
              "      <th>User Rating</th>\n",
              "      <th>Reviews</th>\n",
              "      <th>Price</th>\n",
              "      <th>Year</th>\n",
              "    </tr>\n",
              "  </thead>\n",
              "  <tbody>\n",
              "    <tr>\n",
              "      <th>count</th>\n",
              "      <td>550.000000</td>\n",
              "      <td>550.000000</td>\n",
              "      <td>550.000000</td>\n",
              "      <td>550.000000</td>\n",
              "    </tr>\n",
              "    <tr>\n",
              "      <th>mean</th>\n",
              "      <td>4.618364</td>\n",
              "      <td>11953.281818</td>\n",
              "      <td>13.100000</td>\n",
              "      <td>2014.000000</td>\n",
              "    </tr>\n",
              "    <tr>\n",
              "      <th>std</th>\n",
              "      <td>0.226980</td>\n",
              "      <td>11731.132017</td>\n",
              "      <td>10.842262</td>\n",
              "      <td>3.165156</td>\n",
              "    </tr>\n",
              "    <tr>\n",
              "      <th>min</th>\n",
              "      <td>3.300000</td>\n",
              "      <td>37.000000</td>\n",
              "      <td>0.000000</td>\n",
              "      <td>2009.000000</td>\n",
              "    </tr>\n",
              "    <tr>\n",
              "      <th>25%</th>\n",
              "      <td>4.500000</td>\n",
              "      <td>4058.000000</td>\n",
              "      <td>7.000000</td>\n",
              "      <td>2011.000000</td>\n",
              "    </tr>\n",
              "    <tr>\n",
              "      <th>50%</th>\n",
              "      <td>4.700000</td>\n",
              "      <td>8580.000000</td>\n",
              "      <td>11.000000</td>\n",
              "      <td>2014.000000</td>\n",
              "    </tr>\n",
              "    <tr>\n",
              "      <th>75%</th>\n",
              "      <td>4.800000</td>\n",
              "      <td>17253.250000</td>\n",
              "      <td>16.000000</td>\n",
              "      <td>2017.000000</td>\n",
              "    </tr>\n",
              "    <tr>\n",
              "      <th>max</th>\n",
              "      <td>4.900000</td>\n",
              "      <td>87841.000000</td>\n",
              "      <td>105.000000</td>\n",
              "      <td>2019.000000</td>\n",
              "    </tr>\n",
              "  </tbody>\n",
              "</table>\n",
              "</div>\n",
              "      <button class=\"colab-df-convert\" onclick=\"convertToInteractive('df-eb84846a-9a45-4b0c-a7a3-d0fb85a292f9')\"\n",
              "              title=\"Convert this dataframe to an interactive table.\"\n",
              "              style=\"display:none;\">\n",
              "        \n",
              "  <svg xmlns=\"http://www.w3.org/2000/svg\" height=\"24px\"viewBox=\"0 0 24 24\"\n",
              "       width=\"24px\">\n",
              "    <path d=\"M0 0h24v24H0V0z\" fill=\"none\"/>\n",
              "    <path d=\"M18.56 5.44l.94 2.06.94-2.06 2.06-.94-2.06-.94-.94-2.06-.94 2.06-2.06.94zm-11 1L8.5 8.5l.94-2.06 2.06-.94-2.06-.94L8.5 2.5l-.94 2.06-2.06.94zm10 10l.94 2.06.94-2.06 2.06-.94-2.06-.94-.94-2.06-.94 2.06-2.06.94z\"/><path d=\"M17.41 7.96l-1.37-1.37c-.4-.4-.92-.59-1.43-.59-.52 0-1.04.2-1.43.59L10.3 9.45l-7.72 7.72c-.78.78-.78 2.05 0 2.83L4 21.41c.39.39.9.59 1.41.59.51 0 1.02-.2 1.41-.59l7.78-7.78 2.81-2.81c.8-.78.8-2.07 0-2.86zM5.41 20L4 18.59l7.72-7.72 1.47 1.35L5.41 20z\"/>\n",
              "  </svg>\n",
              "      </button>\n",
              "      \n",
              "  <style>\n",
              "    .colab-df-container {\n",
              "      display:flex;\n",
              "      flex-wrap:wrap;\n",
              "      gap: 12px;\n",
              "    }\n",
              "\n",
              "    .colab-df-convert {\n",
              "      background-color: #E8F0FE;\n",
              "      border: none;\n",
              "      border-radius: 50%;\n",
              "      cursor: pointer;\n",
              "      display: none;\n",
              "      fill: #1967D2;\n",
              "      height: 32px;\n",
              "      padding: 0 0 0 0;\n",
              "      width: 32px;\n",
              "    }\n",
              "\n",
              "    .colab-df-convert:hover {\n",
              "      background-color: #E2EBFA;\n",
              "      box-shadow: 0px 1px 2px rgba(60, 64, 67, 0.3), 0px 1px 3px 1px rgba(60, 64, 67, 0.15);\n",
              "      fill: #174EA6;\n",
              "    }\n",
              "\n",
              "    [theme=dark] .colab-df-convert {\n",
              "      background-color: #3B4455;\n",
              "      fill: #D2E3FC;\n",
              "    }\n",
              "\n",
              "    [theme=dark] .colab-df-convert:hover {\n",
              "      background-color: #434B5C;\n",
              "      box-shadow: 0px 1px 3px 1px rgba(0, 0, 0, 0.15);\n",
              "      filter: drop-shadow(0px 1px 2px rgba(0, 0, 0, 0.3));\n",
              "      fill: #FFFFFF;\n",
              "    }\n",
              "  </style>\n",
              "\n",
              "      <script>\n",
              "        const buttonEl =\n",
              "          document.querySelector('#df-eb84846a-9a45-4b0c-a7a3-d0fb85a292f9 button.colab-df-convert');\n",
              "        buttonEl.style.display =\n",
              "          google.colab.kernel.accessAllowed ? 'block' : 'none';\n",
              "\n",
              "        async function convertToInteractive(key) {\n",
              "          const element = document.querySelector('#df-eb84846a-9a45-4b0c-a7a3-d0fb85a292f9');\n",
              "          const dataTable =\n",
              "            await google.colab.kernel.invokeFunction('convertToInteractive',\n",
              "                                                     [key], {});\n",
              "          if (!dataTable) return;\n",
              "\n",
              "          const docLinkHtml = 'Like what you see? Visit the ' +\n",
              "            '<a target=\"_blank\" href=https://colab.research.google.com/notebooks/data_table.ipynb>data table notebook</a>'\n",
              "            + ' to learn more about interactive tables.';\n",
              "          element.innerHTML = '';\n",
              "          dataTable['output_type'] = 'display_data';\n",
              "          await google.colab.output.renderOutput(dataTable, element);\n",
              "          const docLink = document.createElement('div');\n",
              "          docLink.innerHTML = docLinkHtml;\n",
              "          element.appendChild(docLink);\n",
              "        }\n",
              "      </script>\n",
              "    </div>\n",
              "  </div>\n",
              "  "
            ]
          },
          "metadata": {},
          "execution_count": 32
        }
      ]
    },
    {
      "cell_type": "code",
      "source": [
        "data1.max()"
      ],
      "metadata": {
        "colab": {
          "base_uri": "https://localhost:8080/"
        },
        "id": "n3z0YTKfOfi1",
        "outputId": "3035e91d-4299-4baa-f4eb-8eb9e9306d59"
      },
      "execution_count": null,
      "outputs": [
        {
          "output_type": "execute_result",
          "data": {
            "text/plain": [
              "Name           You Are a Badass: How to Stop Doubting Your Gr...\n",
              "Author                                              Zhi Gang Sha\n",
              "User Rating                                                  4.9\n",
              "Reviews                                                    87841\n",
              "Price                                                        105\n",
              "Year                                                        2019\n",
              "Genre                                                Non Fiction\n",
              "dtype: object"
            ]
          },
          "metadata": {},
          "execution_count": 33
        }
      ]
    },
    {
      "cell_type": "code",
      "source": [
        "data1.value_counts()"
      ],
      "metadata": {
        "colab": {
          "base_uri": "https://localhost:8080/"
        },
        "id": "2WGI3PJeOhiZ",
        "outputId": "82df58a3-a89c-41e2-81a6-0059511862b1"
      },
      "execution_count": null,
      "outputs": [
        {
          "output_type": "execute_result",
          "data": {
            "text/plain": [
              "Name                                                                                                            Author            User Rating  Reviews  Price  Year  Genre      \n",
              "10-Day Green Smoothie Cleanse                                                                                   JJ Smith          4.7          17350    8      2016  Non Fiction    1\n",
              "The Five Dysfunctions of a Team: A Leadership Fable                                                             Patrick Lencioni  4.6          3207     6      2009  Non Fiction    1\n",
              "The Dukan Diet: 2 Steps to Lose the Weight, 2 Steps to Keep It Off Forever                                      Pierre Dukan      4.1          2023     15     2011  Non Fiction    1\n",
              "The Elegance of the Hedgehog                                                                                    Muriel Barbery    4.0          1859     11     2009  Fiction        1\n",
              "The Fault in Our Stars                                                                                          John Green        4.7          50482    7      2014  Fiction        1\n",
              "                                                                                                                                                                                   ..\n",
              "I, Alex Cross                                                                                                   James Patterson   4.6          1320     7      2009  Fiction        1\n",
              "I Am Confident, Brave & Beautiful: A Coloring Book for Girls                                                    Hopscotch Girls   4.8          9737     7      2019  Non Fiction    1\n",
              "Hyperbole and a Half: Unfortunate Situations, Flawed Coping Mechanisms, Mayhem, and Other Things That Happened  Allie Brosh       4.7          4896     17     2013  Non Fiction    1\n",
              "Humans of New York : Stories                                                                                    Brandon Stanton   4.9          2812     17     2015  Non Fiction    1\n",
              "You Are a Badass: How to Stop Doubting Your Greatness and Start Living an Awesome Life                          Jen Sincero       4.7          14331    8      2019  Non Fiction    1\n",
              "Length: 550, dtype: int64"
            ]
          },
          "metadata": {},
          "execution_count": 34
        }
      ]
    },
    {
      "cell_type": "code",
      "source": [
        "data1.sample()"
      ],
      "metadata": {
        "colab": {
          "base_uri": "https://localhost:8080/",
          "height": 81
        },
        "id": "KYnBU0lvOjKF",
        "outputId": "8313e75e-fd86-4a6d-be8c-fc38232f29d6"
      },
      "execution_count": null,
      "outputs": [
        {
          "output_type": "execute_result",
          "data": {
            "text/plain": [
              "                                                 Name          Author  \\\n",
              "90  Drive: The Surprising Truth About What Motivat...  Daniel H. Pink   \n",
              "\n",
              "    User Rating  Reviews  Price  Year        Genre  \n",
              "90          4.5     2525     16  2010  Non Fiction  "
            ],
            "text/html": [
              "\n",
              "  <div id=\"df-80dc9409-535a-44b3-8de5-6ce6c7daf1ab\">\n",
              "    <div class=\"colab-df-container\">\n",
              "      <div>\n",
              "<style scoped>\n",
              "    .dataframe tbody tr th:only-of-type {\n",
              "        vertical-align: middle;\n",
              "    }\n",
              "\n",
              "    .dataframe tbody tr th {\n",
              "        vertical-align: top;\n",
              "    }\n",
              "\n",
              "    .dataframe thead th {\n",
              "        text-align: right;\n",
              "    }\n",
              "</style>\n",
              "<table border=\"1\" class=\"dataframe\">\n",
              "  <thead>\n",
              "    <tr style=\"text-align: right;\">\n",
              "      <th></th>\n",
              "      <th>Name</th>\n",
              "      <th>Author</th>\n",
              "      <th>User Rating</th>\n",
              "      <th>Reviews</th>\n",
              "      <th>Price</th>\n",
              "      <th>Year</th>\n",
              "      <th>Genre</th>\n",
              "    </tr>\n",
              "  </thead>\n",
              "  <tbody>\n",
              "    <tr>\n",
              "      <th>90</th>\n",
              "      <td>Drive: The Surprising Truth About What Motivat...</td>\n",
              "      <td>Daniel H. Pink</td>\n",
              "      <td>4.5</td>\n",
              "      <td>2525</td>\n",
              "      <td>16</td>\n",
              "      <td>2010</td>\n",
              "      <td>Non Fiction</td>\n",
              "    </tr>\n",
              "  </tbody>\n",
              "</table>\n",
              "</div>\n",
              "      <button class=\"colab-df-convert\" onclick=\"convertToInteractive('df-80dc9409-535a-44b3-8de5-6ce6c7daf1ab')\"\n",
              "              title=\"Convert this dataframe to an interactive table.\"\n",
              "              style=\"display:none;\">\n",
              "        \n",
              "  <svg xmlns=\"http://www.w3.org/2000/svg\" height=\"24px\"viewBox=\"0 0 24 24\"\n",
              "       width=\"24px\">\n",
              "    <path d=\"M0 0h24v24H0V0z\" fill=\"none\"/>\n",
              "    <path d=\"M18.56 5.44l.94 2.06.94-2.06 2.06-.94-2.06-.94-.94-2.06-.94 2.06-2.06.94zm-11 1L8.5 8.5l.94-2.06 2.06-.94-2.06-.94L8.5 2.5l-.94 2.06-2.06.94zm10 10l.94 2.06.94-2.06 2.06-.94-2.06-.94-.94-2.06-.94 2.06-2.06.94z\"/><path d=\"M17.41 7.96l-1.37-1.37c-.4-.4-.92-.59-1.43-.59-.52 0-1.04.2-1.43.59L10.3 9.45l-7.72 7.72c-.78.78-.78 2.05 0 2.83L4 21.41c.39.39.9.59 1.41.59.51 0 1.02-.2 1.41-.59l7.78-7.78 2.81-2.81c.8-.78.8-2.07 0-2.86zM5.41 20L4 18.59l7.72-7.72 1.47 1.35L5.41 20z\"/>\n",
              "  </svg>\n",
              "      </button>\n",
              "      \n",
              "  <style>\n",
              "    .colab-df-container {\n",
              "      display:flex;\n",
              "      flex-wrap:wrap;\n",
              "      gap: 12px;\n",
              "    }\n",
              "\n",
              "    .colab-df-convert {\n",
              "      background-color: #E8F0FE;\n",
              "      border: none;\n",
              "      border-radius: 50%;\n",
              "      cursor: pointer;\n",
              "      display: none;\n",
              "      fill: #1967D2;\n",
              "      height: 32px;\n",
              "      padding: 0 0 0 0;\n",
              "      width: 32px;\n",
              "    }\n",
              "\n",
              "    .colab-df-convert:hover {\n",
              "      background-color: #E2EBFA;\n",
              "      box-shadow: 0px 1px 2px rgba(60, 64, 67, 0.3), 0px 1px 3px 1px rgba(60, 64, 67, 0.15);\n",
              "      fill: #174EA6;\n",
              "    }\n",
              "\n",
              "    [theme=dark] .colab-df-convert {\n",
              "      background-color: #3B4455;\n",
              "      fill: #D2E3FC;\n",
              "    }\n",
              "\n",
              "    [theme=dark] .colab-df-convert:hover {\n",
              "      background-color: #434B5C;\n",
              "      box-shadow: 0px 1px 3px 1px rgba(0, 0, 0, 0.15);\n",
              "      filter: drop-shadow(0px 1px 2px rgba(0, 0, 0, 0.3));\n",
              "      fill: #FFFFFF;\n",
              "    }\n",
              "  </style>\n",
              "\n",
              "      <script>\n",
              "        const buttonEl =\n",
              "          document.querySelector('#df-80dc9409-535a-44b3-8de5-6ce6c7daf1ab button.colab-df-convert');\n",
              "        buttonEl.style.display =\n",
              "          google.colab.kernel.accessAllowed ? 'block' : 'none';\n",
              "\n",
              "        async function convertToInteractive(key) {\n",
              "          const element = document.querySelector('#df-80dc9409-535a-44b3-8de5-6ce6c7daf1ab');\n",
              "          const dataTable =\n",
              "            await google.colab.kernel.invokeFunction('convertToInteractive',\n",
              "                                                     [key], {});\n",
              "          if (!dataTable) return;\n",
              "\n",
              "          const docLinkHtml = 'Like what you see? Visit the ' +\n",
              "            '<a target=\"_blank\" href=https://colab.research.google.com/notebooks/data_table.ipynb>data table notebook</a>'\n",
              "            + ' to learn more about interactive tables.';\n",
              "          element.innerHTML = '';\n",
              "          dataTable['output_type'] = 'display_data';\n",
              "          await google.colab.output.renderOutput(dataTable, element);\n",
              "          const docLink = document.createElement('div');\n",
              "          docLink.innerHTML = docLinkHtml;\n",
              "          element.appendChild(docLink);\n",
              "        }\n",
              "      </script>\n",
              "    </div>\n",
              "  </div>\n",
              "  "
            ]
          },
          "metadata": {},
          "execution_count": 35
        }
      ]
    },
    {
      "cell_type": "code",
      "source": [
        "data1.info()"
      ],
      "metadata": {
        "colab": {
          "base_uri": "https://localhost:8080/"
        },
        "id": "xohkce8MOmuA",
        "outputId": "711186b2-f99c-425f-8ff0-5d0af7592041"
      },
      "execution_count": null,
      "outputs": [
        {
          "output_type": "stream",
          "name": "stdout",
          "text": [
            "<class 'pandas.core.frame.DataFrame'>\n",
            "RangeIndex: 550 entries, 0 to 549\n",
            "Data columns (total 7 columns):\n",
            " #   Column       Non-Null Count  Dtype  \n",
            "---  ------       --------------  -----  \n",
            " 0   Name         550 non-null    object \n",
            " 1   Author       550 non-null    object \n",
            " 2   User Rating  550 non-null    float64\n",
            " 3   Reviews      550 non-null    int64  \n",
            " 4   Price        550 non-null    int64  \n",
            " 5   Year         550 non-null    int64  \n",
            " 6   Genre        550 non-null    object \n",
            "dtypes: float64(1), int64(3), object(3)\n",
            "memory usage: 30.2+ KB\n"
          ]
        }
      ]
    },
    {
      "cell_type": "code",
      "source": [
        "data1.isnull().sum(axis=0)"
      ],
      "metadata": {
        "colab": {
          "base_uri": "https://localhost:8080/"
        },
        "id": "nI51KTaKOHKI",
        "outputId": "c6c839f7-915f-4f62-8b81-0a9bc25944f7"
      },
      "execution_count": null,
      "outputs": [
        {
          "output_type": "execute_result",
          "data": {
            "text/plain": [
              "Name           0\n",
              "Author         0\n",
              "User Rating    0\n",
              "Reviews        0\n",
              "Price          0\n",
              "Year           0\n",
              "Genre          0\n",
              "dtype: int64"
            ]
          },
          "metadata": {},
          "execution_count": 37
        }
      ]
    },
    {
      "cell_type": "code",
      "source": [
        "data1.isnull().sum(axis=1)"
      ],
      "metadata": {
        "colab": {
          "base_uri": "https://localhost:8080/"
        },
        "id": "VlTTjVrcOKcH",
        "outputId": "0945ceb2-df2e-43dc-b321-f458929fd2e5"
      },
      "execution_count": null,
      "outputs": [
        {
          "output_type": "execute_result",
          "data": {
            "text/plain": [
              "0      0\n",
              "1      0\n",
              "2      0\n",
              "3      0\n",
              "4      0\n",
              "      ..\n",
              "545    0\n",
              "546    0\n",
              "547    0\n",
              "548    0\n",
              "549    0\n",
              "Length: 550, dtype: int64"
            ]
          },
          "metadata": {},
          "execution_count": 38
        }
      ]
    },
    {
      "cell_type": "code",
      "source": [
        "data1.dtypes"
      ],
      "metadata": {
        "colab": {
          "base_uri": "https://localhost:8080/"
        },
        "id": "eyGo9FO1OpqQ",
        "outputId": "edae3fb3-afe2-41ba-a809-8ca14e4672eb"
      },
      "execution_count": null,
      "outputs": [
        {
          "output_type": "execute_result",
          "data": {
            "text/plain": [
              "Name            object\n",
              "Author          object\n",
              "User Rating    float64\n",
              "Reviews          int64\n",
              "Price            int64\n",
              "Year             int64\n",
              "Genre           object\n",
              "dtype: object"
            ]
          },
          "metadata": {},
          "execution_count": 39
        }
      ]
    },
    {
      "cell_type": "code",
      "source": [
        "A = pd.read_csv('Amazon_top_selling_book.csv')\n",
        "data1 = A['User Rating']\n",
        "\n",
        "plt.hist(data1, bins = 10)\n",
        "\n",
        "plt.xlabel('USER RATINGS')\n",
        "plt.ylabel('NUMBER OF RATING')\n",
        "plt.title('HISTOGRAM', fontsize = 20)\n",
        "plt.grid()\n",
        "\n",
        "plt.show()"
      ],
      "metadata": {
        "colab": {
          "base_uri": "https://localhost:8080/",
          "height": 300
        },
        "id": "r_LfMSkeOtp9",
        "outputId": "d003581a-195f-4ff5-9297-3224a9b53898"
      },
      "execution_count": null,
      "outputs": [
        {
          "output_type": "display_data",
          "data": {
            "text/plain": [
              "<Figure size 432x288 with 1 Axes>"
            ],
            "image/png": "[encoded data removed]"
          },
          "metadata": {
            "needs_background": "light"
          }
        }
      ]
    },
    {
      "cell_type": "code",
      "source": [
        "fig, ax = plt.subplots(figsize=(10, 6))\n",
        "ax.scatter(x = A['User Rating'], y = A['Reviews'])\n",
        "plt.xlabel(\"USER RATINGS\")\n",
        "plt.ylabel(\"REVIEWS\")\n",
        "plt.title('SCATTER', fontsize = 20)\n",
        "plt.grid()\n",
        "\n",
        "plt.show()"
      ],
      "metadata": {
        "colab": {
          "base_uri": "https://localhost:8080/",
          "height": 408
        },
        "id": "2qZUJ9DHPC2Q",
        "outputId": "112e80f5-50e7-4908-d1ee-010e2ee3ae14"
      },
      "execution_count": null,
      "outputs": [
        {
          "output_type": "display_data",
          "data": {
            "text/plain": [
              "<Figure size 720x432 with 1 Axes>"
            ],
            "image/png": "[encoded data removed]"
          },
          "metadata": {
            "needs_background": "light"
          }
        }
      ]
    },
    {
      "cell_type": "code",
      "source": [
        "Y = A.groupby(A[\"User Rating\"])[\"Price\"].sum()\n",
        "plt.axis('equal');\n",
        "plt.pie(Y, labels=Y.index ,autopct='%.0f%%');\n",
        "plt.title('PIE CHART', fontsize = 20)\n",
        "plt.show()"
      ],
      "metadata": {
        "colab": {
          "base_uri": "https://localhost:8080/",
          "height": 268
        },
        "id": "k7hShNWIPS8M",
        "outputId": "dc8ea77f-6419-4422-deed-8728529426c6"
      },
      "execution_count": null,
      "outputs": [
        {
          "output_type": "display_data",
          "data": {
            "text/plain": [
              "<Figure size 432x288 with 1 Axes>"
            ],
            "image/png": "[encoded data removed]"
          },
          "metadata": {}
        }
      ]
    },
    {
      "cell_type": "code",
      "source": [
        "B = A[\"User Rating\"]\n",
        "C = A['Price']\n",
        "D = A['Reviews']\n",
        "E = A['Year']\n",
        "\n",
        "columns = [B, C, D, E]\n",
        "\n",
        "fig, ax = plt.subplots()\n",
        "ax.boxplot(columns)\n",
        "plt.title('BOX PLOT', fontsize = 20)\n",
        "plt.show()"
      ],
      "metadata": {
        "colab": {
          "base_uri": "https://localhost:8080/",
          "height": 285
        },
        "id": "CZhBzGHFPfMT",
        "outputId": "fb35bbe2-3ff8-4c92-c758-8f7816f0b5c3"
      },
      "execution_count": null,
      "outputs": [
        {
          "output_type": "display_data",
          "data": {
            "text/plain": [
              "<Figure size 432x288 with 1 Axes>"
            ],
            "image/png": "[encoded data removed]"
          },
          "metadata": {
            "needs_background": "light"
          }
        }
      ]
    },
    {
      "cell_type": "code",
      "source": [
        "C = A.Price\n",
        "D = A.Year\n",
        "\n",
        "fig, ax = plt.subplots()\n",
        "\n",
        "ax.violinplot([C, D])\n",
        "\n",
        "plt.title('VOILIN PLOT', fontsize = 20)\n",
        "plt.show()"
      ],
      "metadata": {
        "colab": {
          "base_uri": "https://localhost:8080/",
          "height": 285
        },
        "id": "vswok_IDPo3Z",
        "outputId": "a2a3ee6b-3d99-442a-aea8-0575420d7f8f"
      },
      "execution_count": null,
      "outputs": [
        {
          "output_type": "display_data",
          "data": {
            "text/plain": [
              "<Figure size 432x288 with 1 Axes>"
            ],
            "image/png": "[encoded data removed]"
          },
          "metadata": {
            "needs_background": "light"
          }
        }
      ]
    },
    {
      "cell_type": "markdown",
      "source": [
        "PART 2"
      ],
      "metadata": {
        "id": "LSNGLh72ECuw"
      }
    },
    {
      "cell_type": "code",
      "source": [
        "import numpy as np\n",
        "import pandas as pd\n",
        "import os\n",
        "import random\n",
        "import matplotlib.pyplot as plt\n",
        "import matplotlib as map\n",
        "\n",
        "data = pd.read_csv('penguins_size.csv')\n",
        "\n",
        "data.dtypes"
      ],
      "metadata": {
        "colab": {
          "base_uri": "https://localhost:8080/"
        },
        "id": "IhedafTYEEMW",
        "outputId": "b9f00acc-19c6-4a44-bedd-c194f85fea6e"
      },
      "execution_count": null,
      "outputs": [
        {
          "output_type": "execute_result",
          "data": {
            "text/plain": [
              "species               object\n",
              "island                object\n",
              "culmen_length_mm     float64\n",
              "culmen_depth_mm      float64\n",
              "flipper_length_mm    float64\n",
              "body_mass_g          float64\n",
              "sex                   object\n",
              "dtype: object"
            ]
          },
          "metadata": {},
          "execution_count": 47
        }
      ]
    },
    {
      "cell_type": "code",
      "source": [
        "data.describe()\n",
        "data.max()\n",
        "data.value_counts()\n",
        "data.info()\n",
        "data.dtypes\n"
      ],
      "metadata": {
        "colab": {
          "base_uri": "https://localhost:8080/"
        },
        "id": "E3RgcLIRGLZz",
        "outputId": "f35f5a6d-707f-41af-8b95-5eaa1bb34e9f"
      },
      "execution_count": null,
      "outputs": [
        {
          "output_type": "stream",
          "name": "stdout",
          "text": [
            "<class 'pandas.core.frame.DataFrame'>\n",
            "Int64Index: 333 entries, 0 to 343\n",
            "Data columns (total 5 columns):\n",
            " #   Column             Non-Null Count  Dtype  \n",
            "---  ------             --------------  -----  \n",
            " 0   culmen_length_mm   333 non-null    float64\n",
            " 1   culmen_depth_mm    333 non-null    float64\n",
            " 2   flipper_length_mm  333 non-null    float64\n",
            " 3   body_mass_g        333 non-null    float64\n",
            " 4   sex                333 non-null    float64\n",
            "dtypes: float64(5)\n",
            "memory usage: 15.6 KB\n"
          ]
        },
        {
          "output_type": "execute_result",
          "data": {
            "text/plain": [
              "culmen_length_mm     float64\n",
              "culmen_depth_mm      float64\n",
              "flipper_length_mm    float64\n",
              "body_mass_g          float64\n",
              "sex                  float64\n",
              "dtype: object"
            ]
          },
          "metadata": {},
          "execution_count": 81
        }
      ]
    },
    {
      "cell_type": "code",
      "source": [
        "data['species'] = data.species.astype('category')\n",
        "data['sex'] = data.sex.astype('category')\n",
        "data['island'] = data.island.astype('category')\n",
        "\n",
        "data.dtypes"
      ],
      "metadata": {
        "colab": {
          "base_uri": "https://localhost:8080/"
        },
        "id": "g_GWramTEepN",
        "outputId": "aa508310-7867-4628-88b1-9a1d34338165"
      },
      "execution_count": null,
      "outputs": [
        {
          "output_type": "execute_result",
          "data": {
            "text/plain": [
              "species              category\n",
              "island               category\n",
              "culmen_length_mm      float64\n",
              "culmen_depth_mm       float64\n",
              "flipper_length_mm     float64\n",
              "body_mass_g           float64\n",
              "sex                  category\n",
              "dtype: object"
            ]
          },
          "metadata": {},
          "execution_count": 48
        }
      ]
    },
    {
      "cell_type": "code",
      "source": [
        "df_min_max_scaled = data.copy()\n",
        "\n",
        "column = 'culmen_length_mm'\n",
        "df_min_max_scaled[column] = (df_min_max_scaled[column] - df_min_max_scaled[column].min()) / (df_min_max_scaled[column].max() - df_min_max_scaled[column].min())\n",
        "column = 'culmen_depth_mm'\n",
        "df_min_max_scaled[column] = (df_min_max_scaled[column] - df_min_max_scaled[column].min()) / (df_min_max_scaled[column].max() - df_min_max_scaled[column].min())\n",
        "column = 'flipper_length_mm'\n",
        "df_min_max_scaled[column] = (df_min_max_scaled[column] - df_min_max_scaled[column].min()) / (df_min_max_scaled[column].max() - df_min_max_scaled[column].min())\n",
        "column = 'body_mass_g'\n",
        "df_min_max_scaled[column] = (df_min_max_scaled[column] - df_min_max_scaled[column].min()) / (df_min_max_scaled[column].max() - df_min_max_scaled[column].min())\n",
        "\n",
        "data = df_min_max_scaled\n",
        "\n",
        "print(data)"
      ],
      "metadata": {
        "colab": {
          "base_uri": "https://localhost:8080/"
        },
        "id": "sgOLguSTEgZy",
        "outputId": "6dba0c45-6477-4627-f864-0ee5a222f36c"
      },
      "execution_count": null,
      "outputs": [
        {
          "output_type": "stream",
          "name": "stdout",
          "text": [
            "    species     island  culmen_length_mm  culmen_depth_mm  flipper_length_mm  \\\n",
            "0    Adelie  Torgersen          0.254545         0.666667           0.152542   \n",
            "1    Adelie  Torgersen          0.269091         0.511905           0.237288   \n",
            "2    Adelie  Torgersen          0.298182         0.583333           0.389831   \n",
            "3    Adelie  Torgersen               NaN              NaN                NaN   \n",
            "4    Adelie  Torgersen          0.167273         0.738095           0.355932   \n",
            "..      ...        ...               ...              ...                ...   \n",
            "339  Gentoo     Biscoe               NaN              NaN                NaN   \n",
            "340  Gentoo     Biscoe          0.534545         0.142857           0.728814   \n",
            "341  Gentoo     Biscoe          0.665455         0.309524           0.847458   \n",
            "342  Gentoo     Biscoe          0.476364         0.202381           0.677966   \n",
            "343  Gentoo     Biscoe          0.647273         0.357143           0.694915   \n",
            "\n",
            "     body_mass_g     sex  \n",
            "0       0.291667    MALE  \n",
            "1       0.305556  FEMALE  \n",
            "2       0.152778  FEMALE  \n",
            "3            NaN     NaN  \n",
            "4       0.208333  FEMALE  \n",
            "..           ...     ...  \n",
            "339          NaN     NaN  \n",
            "340     0.597222  FEMALE  \n",
            "341     0.847222    MALE  \n",
            "342     0.694444  FEMALE  \n",
            "343     0.750000    MALE  \n",
            "\n",
            "[344 rows x 7 columns]\n"
          ]
        }
      ]
    },
    {
      "cell_type": "code",
      "source": [
        "data.replace(to_replace=['MALE','FEMALE'] , value=[\"1.0\", \"2.0\"], inplace=True)\n",
        "\n",
        "data['sex'] = pd.to_numeric(data['sex'],errors = 'coerce')\n",
        "data.dtypes\n"
      ],
      "metadata": {
        "colab": {
          "base_uri": "https://localhost:8080/"
        },
        "id": "qzziv5wmEleB",
        "outputId": "8e82584c-4c68-4cf9-9b01-0123e241cd41"
      },
      "execution_count": null,
      "outputs": [
        {
          "output_type": "execute_result",
          "data": {
            "text/plain": [
              "species              category\n",
              "island               category\n",
              "culmen_length_mm      float64\n",
              "culmen_depth_mm       float64\n",
              "flipper_length_mm     float64\n",
              "body_mass_g           float64\n",
              "sex                   float64\n",
              "dtype: object"
            ]
          },
          "metadata": {},
          "execution_count": 50
        }
      ]
    },
    {
      "cell_type": "code",
      "source": [
        "data = data.drop(['species','island'], axis=1)\n",
        "data = data.drop(labels=[3,8,9,10,11,47,246,286,324,336,339], axis=0)\n",
        "\n",
        "print(data)"
      ],
      "metadata": {
        "colab": {
          "base_uri": "https://localhost:8080/"
        },
        "id": "kGRE80h5En0N",
        "outputId": "85d7efaa-a911-4245-9ab7-d80224a962a2"
      },
      "execution_count": null,
      "outputs": [
        {
          "output_type": "stream",
          "name": "stdout",
          "text": [
            "     culmen_length_mm  culmen_depth_mm  flipper_length_mm  body_mass_g  sex\n",
            "0            0.254545         0.666667           0.152542     0.291667  1.0\n",
            "1            0.269091         0.511905           0.237288     0.305556  2.0\n",
            "2            0.298182         0.583333           0.389831     0.152778  2.0\n",
            "4            0.167273         0.738095           0.355932     0.208333  2.0\n",
            "5            0.261818         0.892857           0.305085     0.263889  1.0\n",
            "..                ...              ...                ...          ...  ...\n",
            "338          0.549091         0.071429           0.711864     0.618056  2.0\n",
            "340          0.534545         0.142857           0.728814     0.597222  2.0\n",
            "341          0.665455         0.309524           0.847458     0.847222  1.0\n",
            "342          0.476364         0.202381           0.677966     0.694444  2.0\n",
            "343          0.647273         0.357143           0.694915     0.750000  1.0\n",
            "\n",
            "[333 rows x 5 columns]\n"
          ]
        }
      ]
    },
    {
      "cell_type": "code",
      "source": [
        "X = data.drop(\"sex\", 1)\n",
        "Y = data['sex']\n",
        "\n",
        "print(\"X=\\n\", X,\"\\n\\nY=\\n\", Y)"
      ],
      "metadata": {
        "colab": {
          "base_uri": "https://localhost:8080/"
        },
        "id": "KT8sylWoEqY5",
        "outputId": "e163c3d7-4557-4ed2-850a-beecbfe0d4ba"
      },
      "execution_count": null,
      "outputs": [
        {
          "output_type": "stream",
          "name": "stdout",
          "text": [
            "X=\n",
            "      culmen_length_mm  culmen_depth_mm  flipper_length_mm  body_mass_g\n",
            "0            0.254545         0.666667           0.152542     0.291667\n",
            "1            0.269091         0.511905           0.237288     0.305556\n",
            "2            0.298182         0.583333           0.389831     0.152778\n",
            "4            0.167273         0.738095           0.355932     0.208333\n",
            "5            0.261818         0.892857           0.305085     0.263889\n",
            "..                ...              ...                ...          ...\n",
            "338          0.549091         0.071429           0.711864     0.618056\n",
            "340          0.534545         0.142857           0.728814     0.597222\n",
            "341          0.665455         0.309524           0.847458     0.847222\n",
            "342          0.476364         0.202381           0.677966     0.694444\n",
            "343          0.647273         0.357143           0.694915     0.750000\n",
            "\n",
            "[333 rows x 4 columns] \n",
            "\n",
            "Y=\n",
            " 0      1.0\n",
            "1      2.0\n",
            "2      2.0\n",
            "4      2.0\n",
            "5      1.0\n",
            "      ... \n",
            "338    2.0\n",
            "340    2.0\n",
            "341    1.0\n",
            "342    2.0\n",
            "343    1.0\n",
            "Name: sex, Length: 333, dtype: float64\n"
          ]
        },
        {
          "output_type": "stream",
          "name": "stderr",
          "text": [
            "/usr/local/lib/python3.7/dist-packages/ipykernel_launcher.py:1: FutureWarning: In a future version of pandas all arguments of DataFrame.drop except for the argument 'labels' will be keyword-only\n",
            "  \"\"\"Entry point for launching an IPython kernel.\n"
          ]
        }
      ]
    },
    {
      "cell_type": "code",
      "source": [
        "def split(X, Y, ts=0.2):\n",
        "\n",
        "    I = int((1 - ts) * X.shape[0])\n",
        "    O = np.random.permutation(X.shape[0])\n",
        "\n",
        "    X_train, X_test = np.split(np.take(X,O,axis=0), [I])\n",
        "    Y_train, Y_test = np.split(np.take(Y,O), [I])\n",
        "    return X_train, X_test, Y_train, Y_test\n",
        "\n",
        "\n",
        "X_train, X_test, Y_train, Y_test = split(X,Y)\n",
        "\n",
        "xtrain = X_train\n",
        "ytrain = Y_train\n",
        "xtest = X_test\n",
        "ytest = Y_test\n",
        "\n",
        "# print(X_train)\n",
        "# print(Y_train)\n",
        "# print(X_test)\n",
        "# print(Y_test)\n",
        "# print(xtrain)\n",
        "# print(ytrain)\n",
        "# print(xtest)\n",
        "# print(ytest)"
      ],
      "metadata": {
        "id": "Z03u9MxOEq-3"
      },
      "execution_count": null,
      "outputs": []
    },
    {
      "cell_type": "code",
      "source": [
        "print (xtrain.shape)\n",
        "print (ytrain.shape)\n",
        "print (xtest.shape)\n",
        "print (ytest.shape)\n"
      ],
      "metadata": {
        "colab": {
          "base_uri": "https://localhost:8080/"
        },
        "id": "lyKeHYT5EubY",
        "outputId": "84757f5c-664f-4a56-ddfe-e6b4c95019bc"
      },
      "execution_count": null,
      "outputs": [
        {
          "output_type": "stream",
          "name": "stdout",
          "text": [
            "(266, 4)\n",
            "(266,)\n",
            "(67, 4)\n",
            "(67,)\n"
          ]
        }
      ]
    },
    {
      "cell_type": "code",
      "source": [
        "class LogitRegression():\n",
        "  def __init__(self,lr,it):\n",
        "    self.lr = lr\n",
        "    self.it = it\n",
        "\n",
        "  def fit(self,w1,w):\n",
        "    self.w = np.random.uniform(0,1)\n",
        "    # self.w = np.transpose(self.w1)\n",
        "\n",
        "\n",
        "    for i in range(self.it):\n",
        "      self.gradient_descent(ytrain,xtrain,w)\n",
        "      self.cost()\n",
        "\n",
        "  def sigmoid(self,z):\n",
        "    yhead = 1/(1+(np.exp(-z)))\n",
        "    return yhead\n",
        "\n",
        "  def cost(self,h,loss):\n",
        "    h = self.sigmoid(np.dot(self.w,xtrain))\n",
        "    loss = (-ytrain*np.log(h)-(1-ytrain)*np.log(1-h))\n",
        "    loss.append()\n",
        "    return loss.mean()\n",
        "\n",
        "  def gradient_descent(self,ytrain,xtrain,w):\n",
        "    yhat = self.sigmoid(np.dot(self.w,xtrain))\n",
        "    pred = self.sigmoid(np.dot(self.w,xtrain))\n",
        "    delta = pred - ytrain\n",
        "    xt = np.transpose(xtrain)\n",
        "    dw = (xt*delta)\n",
        "    dw = dw.mean()\n",
        "    return dw,pred\n",
        "\n",
        "  def predict(self, xtest,w):\n",
        "    z = self.sigmoid(np.dot(self.w,xtest))\n",
        "    Y_prediction = np.zeros((1,xtest.shape[1]))\n",
        "\n",
        "    for i in range(z.shape[1]):\n",
        "        if z[0,i]<= 1.0:\n",
        "            Y_prediction[0,i] = 0\n",
        "        else:\n",
        "            Y_prediction[0,i] = 1\n",
        "\n",
        "    return self.sigmoid"
      ],
      "metadata": {
        "id": "Xw4gSrXCEvIp"
      },
      "execution_count": null,
      "outputs": []
    },
    {
      "cell_type": "code",
      "source": [
        "model = LogitRegression(lr=(1e-6), it=100000)\n",
        "model.fit(xtrain, ytrain)"
      ],
      "metadata": {
        "id": "GC-bcqbbExMH"
      },
      "execution_count": null,
      "outputs": []
    },
    {
      "cell_type": "code",
      "source": [],
      "metadata": {
        "id": "NhD65ZtPE2vG"
      },
      "execution_count": null,
      "outputs": []
    },
    {
      "cell_type": "code",
      "source": [],
      "metadata": {
        "id": "2w4WZpaKE20Y"
      },
      "execution_count": null,
      "outputs": []
    },
    {
      "cell_type": "markdown",
      "source": [
        "PART 3"
      ],
      "metadata": {
        "id": "qNBpXu9lE8iO"
      }
    },
    {
      "cell_type": "code",
      "source": [
        "import numpy as np\n",
        "import pandas as pd\n",
        "import os\n",
        "import random\n",
        "import matplotlib.pyplot as plt\n",
        "import matplotlib as map\n",
        "\n",
        "data = pd.read_csv('penguins_size.csv')\n",
        "\n",
        "data.dtypes"
      ],
      "metadata": {
        "colab": {
          "base_uri": "https://localhost:8080/"
        },
        "id": "-AItf-MhE-qe",
        "outputId": "78608c65-fa95-40e2-c2e6-03cbdd470484"
      },
      "execution_count": null,
      "outputs": [
        {
          "output_type": "execute_result",
          "data": {
            "text/plain": [
              "species               object\n",
              "island                object\n",
              "culmen_length_mm     float64\n",
              "culmen_depth_mm      float64\n",
              "flipper_length_mm    float64\n",
              "body_mass_g          float64\n",
              "sex                   object\n",
              "dtype: object"
            ]
          },
          "metadata": {},
          "execution_count": 56
        }
      ]
    },
    {
      "cell_type": "code",
      "source": [
        "data.describe()\n",
        "data.max()\n",
        "data.value_counts()\n",
        "data.info()\n",
        "data.dtypes\n"
      ],
      "metadata": {
        "colab": {
          "base_uri": "https://localhost:8080/"
        },
        "id": "omeYYY2pGkn3",
        "outputId": "4824cf7e-8559-4f6d-e408-615a6e238c0f"
      },
      "execution_count": null,
      "outputs": [
        {
          "output_type": "stream",
          "name": "stdout",
          "text": [
            "<class 'pandas.core.frame.DataFrame'>\n",
            "Int64Index: 333 entries, 0 to 343\n",
            "Data columns (total 5 columns):\n",
            " #   Column             Non-Null Count  Dtype  \n",
            "---  ------             --------------  -----  \n",
            " 0   culmen_length_mm   333 non-null    float64\n",
            " 1   culmen_depth_mm    333 non-null    float64\n",
            " 2   flipper_length_mm  333 non-null    float64\n",
            " 3   body_mass_g        333 non-null    float64\n",
            " 4   sex                333 non-null    float64\n",
            "dtypes: float64(5)\n",
            "memory usage: 15.6 KB\n"
          ]
        },
        {
          "output_type": "execute_result",
          "data": {
            "text/plain": [
              "culmen_length_mm     float64\n",
              "culmen_depth_mm      float64\n",
              "flipper_length_mm    float64\n",
              "body_mass_g          float64\n",
              "sex                  float64\n",
              "dtype: object"
            ]
          },
          "metadata": {},
          "execution_count": 82
        }
      ]
    },
    {
      "cell_type": "code",
      "source": [
        "data['species'] = data.species.astype('category')\n",
        "data['sex'] = data.sex.astype('category')\n",
        "data['island'] = data.island.astype('category')\n",
        "\n",
        "data.dtypes"
      ],
      "metadata": {
        "colab": {
          "base_uri": "https://localhost:8080/"
        },
        "id": "I0a5I3fLFBDt",
        "outputId": "94642531-bbd2-4e32-c134-510397d419c2"
      },
      "execution_count": null,
      "outputs": [
        {
          "output_type": "execute_result",
          "data": {
            "text/plain": [
              "species              category\n",
              "island               category\n",
              "culmen_length_mm      float64\n",
              "culmen_depth_mm       float64\n",
              "flipper_length_mm     float64\n",
              "body_mass_g           float64\n",
              "sex                  category\n",
              "dtype: object"
            ]
          },
          "metadata": {},
          "execution_count": 57
        }
      ]
    },
    {
      "cell_type": "code",
      "source": [
        "df_min_max_scaled = data.copy()\n",
        "\n",
        "column = 'culmen_length_mm'\n",
        "df_min_max_scaled[column] = (df_min_max_scaled[column] - df_min_max_scaled[column].min()) / (df_min_max_scaled[column].max() - df_min_max_scaled[column].min())\n",
        "column = 'culmen_depth_mm'\n",
        "df_min_max_scaled[column] = (df_min_max_scaled[column] - df_min_max_scaled[column].min()) / (df_min_max_scaled[column].max() - df_min_max_scaled[column].min())\n",
        "column = 'flipper_length_mm'\n",
        "df_min_max_scaled[column] = (df_min_max_scaled[column] - df_min_max_scaled[column].min()) / (df_min_max_scaled[column].max() - df_min_max_scaled[column].min())\n",
        "column = 'body_mass_g'\n",
        "df_min_max_scaled[column] = (df_min_max_scaled[column] - df_min_max_scaled[column].min()) / (df_min_max_scaled[column].max() - df_min_max_scaled[column].min())\n",
        "\n",
        "data = df_min_max_scaled\n",
        "\n",
        "print(data)"
      ],
      "metadata": {
        "colab": {
          "base_uri": "https://localhost:8080/"
        },
        "id": "XX9h77OZFC1Q",
        "outputId": "c6fb7638-fa4b-4507-ec22-2a95d193971c"
      },
      "execution_count": null,
      "outputs": [
        {
          "output_type": "stream",
          "name": "stdout",
          "text": [
            "    species     island  culmen_length_mm  culmen_depth_mm  flipper_length_mm  \\\n",
            "0    Adelie  Torgersen          0.254545         0.666667           0.152542   \n",
            "1    Adelie  Torgersen          0.269091         0.511905           0.237288   \n",
            "2    Adelie  Torgersen          0.298182         0.583333           0.389831   \n",
            "3    Adelie  Torgersen               NaN              NaN                NaN   \n",
            "4    Adelie  Torgersen          0.167273         0.738095           0.355932   \n",
            "..      ...        ...               ...              ...                ...   \n",
            "339  Gentoo     Biscoe               NaN              NaN                NaN   \n",
            "340  Gentoo     Biscoe          0.534545         0.142857           0.728814   \n",
            "341  Gentoo     Biscoe          0.665455         0.309524           0.847458   \n",
            "342  Gentoo     Biscoe          0.476364         0.202381           0.677966   \n",
            "343  Gentoo     Biscoe          0.647273         0.357143           0.694915   \n",
            "\n",
            "     body_mass_g     sex  \n",
            "0       0.291667    MALE  \n",
            "1       0.305556  FEMALE  \n",
            "2       0.152778  FEMALE  \n",
            "3            NaN     NaN  \n",
            "4       0.208333  FEMALE  \n",
            "..           ...     ...  \n",
            "339          NaN     NaN  \n",
            "340     0.597222  FEMALE  \n",
            "341     0.847222    MALE  \n",
            "342     0.694444  FEMALE  \n",
            "343     0.750000    MALE  \n",
            "\n",
            "[344 rows x 7 columns]\n"
          ]
        }
      ]
    },
    {
      "cell_type": "code",
      "source": [
        "data.replace(to_replace=['MALE','FEMALE'] , value=[\"1.0\", \"2.0\"], inplace=True)\n",
        "\n",
        "data['sex'] = pd.to_numeric(data['sex'],errors = 'coerce')\n",
        "data.dtypes\n"
      ],
      "metadata": {
        "colab": {
          "base_uri": "https://localhost:8080/"
        },
        "id": "1DVOmI2FFFFh",
        "outputId": "bd60e553-5491-4abb-b7cf-1d4d4ad1ed2e"
      },
      "execution_count": null,
      "outputs": [
        {
          "output_type": "execute_result",
          "data": {
            "text/plain": [
              "species              category\n",
              "island               category\n",
              "culmen_length_mm      float64\n",
              "culmen_depth_mm       float64\n",
              "flipper_length_mm     float64\n",
              "body_mass_g           float64\n",
              "sex                   float64\n",
              "dtype: object"
            ]
          },
          "metadata": {},
          "execution_count": 59
        }
      ]
    },
    {
      "cell_type": "code",
      "source": [
        "data = data.drop(['species','island'], axis=1)\n",
        "data = data.drop(labels=[3,8,9,10,11,47,246,286,324,336,339], axis=0)\n",
        "\n",
        "print(data)"
      ],
      "metadata": {
        "colab": {
          "base_uri": "https://localhost:8080/"
        },
        "id": "3epRzHJzFGA1",
        "outputId": "d0f6e4bd-34c2-4d57-e4b3-fd097d0c6f58"
      },
      "execution_count": null,
      "outputs": [
        {
          "output_type": "stream",
          "name": "stdout",
          "text": [
            "     culmen_length_mm  culmen_depth_mm  flipper_length_mm  body_mass_g  sex\n",
            "0            0.254545         0.666667           0.152542     0.291667  1.0\n",
            "1            0.269091         0.511905           0.237288     0.305556  2.0\n",
            "2            0.298182         0.583333           0.389831     0.152778  2.0\n",
            "4            0.167273         0.738095           0.355932     0.208333  2.0\n",
            "5            0.261818         0.892857           0.305085     0.263889  1.0\n",
            "..                ...              ...                ...          ...  ...\n",
            "338          0.549091         0.071429           0.711864     0.618056  2.0\n",
            "340          0.534545         0.142857           0.728814     0.597222  2.0\n",
            "341          0.665455         0.309524           0.847458     0.847222  1.0\n",
            "342          0.476364         0.202381           0.677966     0.694444  2.0\n",
            "343          0.647273         0.357143           0.694915     0.750000  1.0\n",
            "\n",
            "[333 rows x 5 columns]\n"
          ]
        }
      ]
    },
    {
      "cell_type": "code",
      "source": [
        "X = data.drop(\"sex\", 1)\n",
        "Y = data['sex']\n",
        "\n",
        "print(\"X=\\n\", X,\"\\n\\nY=\\n\", Y)"
      ],
      "metadata": {
        "colab": {
          "base_uri": "https://localhost:8080/"
        },
        "id": "fYus0i5JFHmD",
        "outputId": "97858a76-bf15-45be-a6f7-039707154aca"
      },
      "execution_count": null,
      "outputs": [
        {
          "output_type": "stream",
          "name": "stdout",
          "text": [
            "X=\n",
            "      culmen_length_mm  culmen_depth_mm  flipper_length_mm  body_mass_g\n",
            "0            0.254545         0.666667           0.152542     0.291667\n",
            "1            0.269091         0.511905           0.237288     0.305556\n",
            "2            0.298182         0.583333           0.389831     0.152778\n",
            "4            0.167273         0.738095           0.355932     0.208333\n",
            "5            0.261818         0.892857           0.305085     0.263889\n",
            "..                ...              ...                ...          ...\n",
            "338          0.549091         0.071429           0.711864     0.618056\n",
            "340          0.534545         0.142857           0.728814     0.597222\n",
            "341          0.665455         0.309524           0.847458     0.847222\n",
            "342          0.476364         0.202381           0.677966     0.694444\n",
            "343          0.647273         0.357143           0.694915     0.750000\n",
            "\n",
            "[333 rows x 4 columns] \n",
            "\n",
            "Y=\n",
            " 0      1.0\n",
            "1      2.0\n",
            "2      2.0\n",
            "4      2.0\n",
            "5      1.0\n",
            "      ... \n",
            "338    2.0\n",
            "340    2.0\n",
            "341    1.0\n",
            "342    2.0\n",
            "343    1.0\n",
            "Name: sex, Length: 333, dtype: float64\n"
          ]
        },
        {
          "output_type": "stream",
          "name": "stderr",
          "text": [
            "/usr/local/lib/python3.7/dist-packages/ipykernel_launcher.py:1: FutureWarning: In a future version of pandas all arguments of DataFrame.drop except for the argument 'labels' will be keyword-only\n",
            "  \"\"\"Entry point for launching an IPython kernel.\n"
          ]
        }
      ]
    },
    {
      "cell_type": "code",
      "source": [
        "def split(X, Y, test_size=0.2):\n",
        "\n",
        "    i = int((1 - test_size) * X.shape[0])\n",
        "    o = np.random.permutation(X.shape[0])\n",
        "\n",
        "    X_train, X_test = np.split(np.take(X,o,axis=0), [i])\n",
        "    Y_train, Y_test = np.split(np.take(Y,o), [i])\n",
        "    return X_train, X_test, Y_train, Y_test\n",
        "\n",
        "\n",
        "X_train, X_test, Y_train, Y_test = split(X,Y)\n",
        "\n",
        "xtrain = X_train\n",
        "ytrain = Y_train\n",
        "xtest = X_test\n",
        "ytest = Y_test\n",
        "\n",
        "# print(X_train)\n",
        "# print(Y_train)\n",
        "# print(X_test)\n",
        "# print(Y_test)\n",
        "# print(xtrain)\n",
        "# print(ytrain)\n",
        "# print(xtest)\n",
        "# print(ytest)"
      ],
      "metadata": {
        "id": "zdwaeeuBFI44"
      },
      "execution_count": null,
      "outputs": []
    },
    {
      "cell_type": "code",
      "source": [
        "print (xtrain.shape)\n",
        "print (ytrain.shape)\n",
        "print (xtest.shape)\n",
        "print (ytest.shape)\n"
      ],
      "metadata": {
        "colab": {
          "base_uri": "https://localhost:8080/"
        },
        "id": "pq0kvvE2FL_b",
        "outputId": "e14b8e97-9c98-461b-ceb8-5022b3a80027"
      },
      "execution_count": null,
      "outputs": [
        {
          "output_type": "stream",
          "name": "stdout",
          "text": [
            "(266, 4)\n",
            "(266,)\n",
            "(67, 4)\n",
            "(67,)\n"
          ]
        }
      ]
    },
    {
      "cell_type": "code",
      "source": [
        "X = data.flipper_length_mm.values\n",
        "Y = data.sex.values\n",
        "\n",
        "print(X.shape)\n",
        "\n",
        "X1_mat=np.vstack((np.ones(len(X)), X))\n",
        "print(X1_mat.shape)\n",
        "\n",
        "X_mat=np.vstack((np.ones(len(X)), X)).T\n",
        "\n",
        "print(X_mat.shape)\n",
        "\n",
        "beta_hat = np.linalg.inv(X_mat.T.dot(X_mat)).dot(X_mat.T).dot(Y)\n",
        "\n",
        "print(beta_hat)\n",
        "\n",
        "w = np.transpose(beta_hat)\n"
      ],
      "metadata": {
        "colab": {
          "base_uri": "https://localhost:8080/"
        },
        "id": "7xGOcJwZFNdl",
        "outputId": "03d7b374-83b2-4751-c335-20753eeb7ffe"
      },
      "execution_count": null,
      "outputs": [
        {
          "output_type": "stream",
          "name": "stdout",
          "text": [
            "(333,)\n",
            "(2, 333)\n",
            "(333, 2)\n",
            "[ 1.75956568 -0.53785889]\n"
          ]
        }
      ]
    },
    {
      "cell_type": "code",
      "source": [
        "ypred = np.dot(beta_hat,X1_mat)\n",
        "print(ytrain.shape)\n",
        "\n",
        "MSE = np.square(np.subtract(Y,ypred)).mean()\n",
        "\n",
        "print(MSE)\n"
      ],
      "metadata": {
        "colab": {
          "base_uri": "https://localhost:8080/"
        },
        "id": "abIWKokSFRUI",
        "outputId": "1eb5afdb-6745-4024-868d-893fe8622baf"
      },
      "execution_count": null,
      "outputs": [
        {
          "output_type": "stream",
          "name": "stdout",
          "text": [
            "(266,)\n",
            "0.23370324178541177\n"
          ]
        }
      ]
    },
    {
      "cell_type": "code",
      "source": [
        "plt.scatter(ypred, Y, alpha=0.5)\n",
        "plt.show()"
      ],
      "metadata": {
        "colab": {
          "base_uri": "https://localhost:8080/",
          "height": 264
        },
        "id": "N9TjHB-tFUgX",
        "outputId": "bba22b88-3998-4f2f-b6ff-2ade102fe89a"
      },
      "execution_count": null,
      "outputs": [
        {
          "output_type": "display_data",
          "data": {
            "text/plain": [
              "<Figure size 432x288 with 1 Axes>"
            ],
            "image/png": "[encoded data removed]"
          },
          "metadata": {
            "needs_background": "light"
          }
        }
      ]
    },
    {
      "cell_type": "markdown",
      "source": [
        "PART 4\n"
      ],
      "metadata": {
        "id": "Y1MiRJ15FZq7"
      }
    },
    {
      "cell_type": "code",
      "source": [
        "import numpy as np\n",
        "import pandas as pd\n",
        "import os\n",
        "import random\n",
        "import matplotlib.pyplot as plt\n",
        "import matplotlib as map\n",
        "\n",
        "data = pd.read_csv('penguins_size.csv')\n",
        "\n",
        "data.dtypes"
      ],
      "metadata": {
        "colab": {
          "base_uri": "https://localhost:8080/"
        },
        "id": "Q_mJGmsoFbHJ",
        "outputId": "e8e1ffd7-339f-4de6-efb7-f42fc5f21d5c"
      },
      "execution_count": null,
      "outputs": [
        {
          "output_type": "execute_result",
          "data": {
            "text/plain": [
              "species               object\n",
              "island                object\n",
              "culmen_length_mm     float64\n",
              "culmen_depth_mm      float64\n",
              "flipper_length_mm    float64\n",
              "body_mass_g          float64\n",
              "sex                   object\n",
              "dtype: object"
            ]
          },
          "metadata": {},
          "execution_count": 67
        }
      ]
    },
    {
      "cell_type": "code",
      "source": [
        "data.describe()\n",
        "data.max()\n",
        "data.value_counts()\n",
        "data.info()\n",
        "data.dtypes\n"
      ],
      "metadata": {
        "colab": {
          "base_uri": "https://localhost:8080/"
        },
        "id": "iMvvwoJ5GmQM",
        "outputId": "33308756-804a-4566-c345-722493267b23"
      },
      "execution_count": null,
      "outputs": [
        {
          "output_type": "stream",
          "name": "stdout",
          "text": [
            "<class 'pandas.core.frame.DataFrame'>\n",
            "Int64Index: 333 entries, 0 to 343\n",
            "Data columns (total 5 columns):\n",
            " #   Column             Non-Null Count  Dtype  \n",
            "---  ------             --------------  -----  \n",
            " 0   culmen_length_mm   333 non-null    float64\n",
            " 1   culmen_depth_mm    333 non-null    float64\n",
            " 2   flipper_length_mm  333 non-null    float64\n",
            " 3   body_mass_g        333 non-null    float64\n",
            " 4   sex                333 non-null    float64\n",
            "dtypes: float64(5)\n",
            "memory usage: 15.6 KB\n"
          ]
        },
        {
          "output_type": "execute_result",
          "data": {
            "text/plain": [
              "culmen_length_mm     float64\n",
              "culmen_depth_mm      float64\n",
              "flipper_length_mm    float64\n",
              "body_mass_g          float64\n",
              "sex                  float64\n",
              "dtype: object"
            ]
          },
          "metadata": {},
          "execution_count": 83
        }
      ]
    },
    {
      "cell_type": "code",
      "source": [
        "data['species'] = data.species.astype('category')\n",
        "data['sex'] = data.sex.astype('category')\n",
        "data['island'] = data.island.astype('category')\n",
        "\n",
        "data.dtypes"
      ],
      "metadata": {
        "colab": {
          "base_uri": "https://localhost:8080/"
        },
        "id": "ZiVJo8PEFd-9",
        "outputId": "60f6cfde-ddc2-495a-d28c-bcbafe8f36de"
      },
      "execution_count": null,
      "outputs": [
        {
          "output_type": "execute_result",
          "data": {
            "text/plain": [
              "species              category\n",
              "island               category\n",
              "culmen_length_mm      float64\n",
              "culmen_depth_mm       float64\n",
              "flipper_length_mm     float64\n",
              "body_mass_g           float64\n",
              "sex                  category\n",
              "dtype: object"
            ]
          },
          "metadata": {},
          "execution_count": 68
        }
      ]
    },
    {
      "cell_type": "code",
      "source": [
        "df_min_max_scaled = data.copy()\n",
        "\n",
        "column = 'culmen_length_mm'\n",
        "df_min_max_scaled[column] = (df_min_max_scaled[column] - df_min_max_scaled[column].min()) / (df_min_max_scaled[column].max() - df_min_max_scaled[column].min())\n",
        "column = 'culmen_depth_mm'\n",
        "df_min_max_scaled[column] = (df_min_max_scaled[column] - df_min_max_scaled[column].min()) / (df_min_max_scaled[column].max() - df_min_max_scaled[column].min())\n",
        "column = 'flipper_length_mm'\n",
        "df_min_max_scaled[column] = (df_min_max_scaled[column] - df_min_max_scaled[column].min()) / (df_min_max_scaled[column].max() - df_min_max_scaled[column].min())\n",
        "column = 'body_mass_g'\n",
        "df_min_max_scaled[column] = (df_min_max_scaled[column] - df_min_max_scaled[column].min()) / (df_min_max_scaled[column].max() - df_min_max_scaled[column].min())\n",
        "\n",
        "data = df_min_max_scaled\n",
        "\n",
        "print(data)"
      ],
      "metadata": {
        "colab": {
          "base_uri": "https://localhost:8080/"
        },
        "id": "d5Wg9iZeFfPE",
        "outputId": "d1c995ac-375c-4bd7-bc6e-ab86f8443d6a"
      },
      "execution_count": null,
      "outputs": [
        {
          "output_type": "stream",
          "name": "stdout",
          "text": [
            "    species     island  culmen_length_mm  culmen_depth_mm  flipper_length_mm  \\\n",
            "0    Adelie  Torgersen          0.254545         0.666667           0.152542   \n",
            "1    Adelie  Torgersen          0.269091         0.511905           0.237288   \n",
            "2    Adelie  Torgersen          0.298182         0.583333           0.389831   \n",
            "3    Adelie  Torgersen               NaN              NaN                NaN   \n",
            "4    Adelie  Torgersen          0.167273         0.738095           0.355932   \n",
            "..      ...        ...               ...              ...                ...   \n",
            "339  Gentoo     Biscoe               NaN              NaN                NaN   \n",
            "340  Gentoo     Biscoe          0.534545         0.142857           0.728814   \n",
            "341  Gentoo     Biscoe          0.665455         0.309524           0.847458   \n",
            "342  Gentoo     Biscoe          0.476364         0.202381           0.677966   \n",
            "343  Gentoo     Biscoe          0.647273         0.357143           0.694915   \n",
            "\n",
            "     body_mass_g     sex  \n",
            "0       0.291667    MALE  \n",
            "1       0.305556  FEMALE  \n",
            "2       0.152778  FEMALE  \n",
            "3            NaN     NaN  \n",
            "4       0.208333  FEMALE  \n",
            "..           ...     ...  \n",
            "339          NaN     NaN  \n",
            "340     0.597222  FEMALE  \n",
            "341     0.847222    MALE  \n",
            "342     0.694444  FEMALE  \n",
            "343     0.750000    MALE  \n",
            "\n",
            "[344 rows x 7 columns]\n"
          ]
        }
      ]
    },
    {
      "cell_type": "code",
      "source": [
        "data.replace(to_replace=['MALE','FEMALE'] , value=[\"1.0\", \"2.0\"], inplace=True)\n",
        "\n",
        "data['sex'] = pd.to_numeric(data['sex'],errors = 'coerce')\n",
        "data.dtypes"
      ],
      "metadata": {
        "colab": {
          "base_uri": "https://localhost:8080/"
        },
        "id": "ritFQDREFg8o",
        "outputId": "e9d0cf3a-2e89-47b1-b4b4-b01ec90a588e"
      },
      "execution_count": null,
      "outputs": [
        {
          "output_type": "execute_result",
          "data": {
            "text/plain": [
              "species              category\n",
              "island               category\n",
              "culmen_length_mm      float64\n",
              "culmen_depth_mm       float64\n",
              "flipper_length_mm     float64\n",
              "body_mass_g           float64\n",
              "sex                   float64\n",
              "dtype: object"
            ]
          },
          "metadata": {},
          "execution_count": 70
        }
      ]
    },
    {
      "cell_type": "code",
      "source": [
        "data = data.drop(['species','island'], axis=1)\n",
        "data = data.drop(labels=[3,8,9,10,11,47,246,286,324,336,339], axis=0)\n",
        "\n",
        "\n",
        "print(data)"
      ],
      "metadata": {
        "colab": {
          "base_uri": "https://localhost:8080/"
        },
        "id": "_8hbPYRsFijq",
        "outputId": "b67eabc3-1ead-483d-b4fe-d412b95c66d9"
      },
      "execution_count": null,
      "outputs": [
        {
          "output_type": "stream",
          "name": "stdout",
          "text": [
            "     culmen_length_mm  culmen_depth_mm  flipper_length_mm  body_mass_g  sex\n",
            "0            0.254545         0.666667           0.152542     0.291667  1.0\n",
            "1            0.269091         0.511905           0.237288     0.305556  2.0\n",
            "2            0.298182         0.583333           0.389831     0.152778  2.0\n",
            "4            0.167273         0.738095           0.355932     0.208333  2.0\n",
            "5            0.261818         0.892857           0.305085     0.263889  1.0\n",
            "..                ...              ...                ...          ...  ...\n",
            "338          0.549091         0.071429           0.711864     0.618056  2.0\n",
            "340          0.534545         0.142857           0.728814     0.597222  2.0\n",
            "341          0.665455         0.309524           0.847458     0.847222  1.0\n",
            "342          0.476364         0.202381           0.677966     0.694444  2.0\n",
            "343          0.647273         0.357143           0.694915     0.750000  1.0\n",
            "\n",
            "[333 rows x 5 columns]\n"
          ]
        }
      ]
    },
    {
      "cell_type": "code",
      "source": [
        "X = data.drop(\"sex\", 1)\n",
        "Y = data['sex']\n",
        "\n",
        "print(\"X=\\n\", X,\"\\n\\nY=\\n\", Y)"
      ],
      "metadata": {
        "colab": {
          "base_uri": "https://localhost:8080/"
        },
        "id": "VEl8-M_lFj5D",
        "outputId": "928ee27c-b554-48ed-f0bb-13d467188913"
      },
      "execution_count": null,
      "outputs": [
        {
          "output_type": "stream",
          "name": "stdout",
          "text": [
            "X=\n",
            "      culmen_length_mm  culmen_depth_mm  flipper_length_mm  body_mass_g\n",
            "0            0.254545         0.666667           0.152542     0.291667\n",
            "1            0.269091         0.511905           0.237288     0.305556\n",
            "2            0.298182         0.583333           0.389831     0.152778\n",
            "4            0.167273         0.738095           0.355932     0.208333\n",
            "5            0.261818         0.892857           0.305085     0.263889\n",
            "..                ...              ...                ...          ...\n",
            "338          0.549091         0.071429           0.711864     0.618056\n",
            "340          0.534545         0.142857           0.728814     0.597222\n",
            "341          0.665455         0.309524           0.847458     0.847222\n",
            "342          0.476364         0.202381           0.677966     0.694444\n",
            "343          0.647273         0.357143           0.694915     0.750000\n",
            "\n",
            "[333 rows x 4 columns] \n",
            "\n",
            "Y=\n",
            " 0      1.0\n",
            "1      2.0\n",
            "2      2.0\n",
            "4      2.0\n",
            "5      1.0\n",
            "      ... \n",
            "338    2.0\n",
            "340    2.0\n",
            "341    1.0\n",
            "342    2.0\n",
            "343    1.0\n",
            "Name: sex, Length: 333, dtype: float64\n"
          ]
        },
        {
          "output_type": "stream",
          "name": "stderr",
          "text": [
            "/usr/local/lib/python3.7/dist-packages/ipykernel_launcher.py:1: FutureWarning: In a future version of pandas all arguments of DataFrame.drop except for the argument 'labels' will be keyword-only\n",
            "  \"\"\"Entry point for launching an IPython kernel.\n"
          ]
        }
      ]
    },
    {
      "cell_type": "code",
      "source": [
        "def split(X, Y, test_size=0.2):\n",
        "\n",
        "    i = int((1 - test_size) * X.shape[0])\n",
        "    o = np.random.permutation(X.shape[0])\n",
        "\n",
        "    X_train, X_test = np.split(np.take(X,o,axis=0), [i])\n",
        "    Y_train, Y_test = np.split(np.take(Y,o), [i])\n",
        "    return X_train, X_test, Y_train, Y_test\n",
        "\n",
        "\n",
        "X_train, X_test, Y_train, Y_test = split(X,Y)\n",
        "\n",
        "xtrain = X_train\n",
        "ytrain = Y_train\n",
        "xtest = X_test\n",
        "ytest = Y_test\n",
        "\n",
        "# print(X_train)\n",
        "# print(Y_train)\n",
        "# print(X_test)\n",
        "# print(Y_test)\n",
        "print(xtrain)\n",
        "print(ytrain)\n",
        "print(xtest)\n",
        "print(ytest)"
      ],
      "metadata": {
        "colab": {
          "base_uri": "https://localhost:8080/"
        },
        "id": "T8hDdL58FlCj",
        "outputId": "936d322d-4384-4147-d855-3438e2795761"
      },
      "execution_count": null,
      "outputs": [
        {
          "output_type": "stream",
          "name": "stdout",
          "text": [
            "     culmen_length_mm  culmen_depth_mm  flipper_length_mm  body_mass_g\n",
            "275          0.469091         0.273810           0.813559     0.652778\n",
            "318          0.592727         0.154762           0.525424     0.534722\n",
            "107          0.221818         0.821429           0.305085     0.333333\n",
            "36           0.243636         0.821429           0.305085     0.347222\n",
            "141          0.309091         0.488095           0.254237     0.215278\n",
            "..                ...              ...                ...          ...\n",
            "156          0.749091         0.797619           0.423729     0.284722\n",
            "247          0.570909         0.226190           0.728814     0.819444\n",
            "128          0.250909         0.476190           0.322034     0.097222\n",
            "323          0.618182         0.226190           0.949153     0.777778\n",
            "97           0.298182         0.642857           0.406780     0.458333\n",
            "\n",
            "[266 rows x 4 columns]\n",
            "275    1.0\n",
            "318    2.0\n",
            "107    1.0\n",
            "36     1.0\n",
            "141    1.0\n",
            "      ... \n",
            "156    1.0\n",
            "247    1.0\n",
            "128    2.0\n",
            "323    1.0\n",
            "97     1.0\n",
            "Name: sex, Length: 266, dtype: float64\n",
            "     culmen_length_mm  culmen_depth_mm  flipper_length_mm  body_mass_g\n",
            "285          0.643636         0.440476           0.983051     0.833333\n",
            "249          0.650909         0.261905           0.813559     0.791667\n",
            "190          0.538182         0.416667           0.338983     0.000000\n",
            "313          0.632727         0.357143           0.881356     0.819444\n",
            "269          0.476364         0.321429           0.728814     0.722222\n",
            "..                ...              ...                ...          ...\n",
            "17           0.378182         0.904762           0.423729     0.500000\n",
            "103          0.207273         0.821429           0.305085     0.430556\n",
            "34           0.156364         0.464286           0.389831     0.173611\n",
            "114          0.272727         0.904762           0.322034     0.333333\n",
            "149          0.207273         0.595238           0.355932     0.291667\n",
            "\n",
            "[67 rows x 4 columns]\n",
            "285    1.0\n",
            "249    1.0\n",
            "190    2.0\n",
            "313    1.0\n",
            "269    1.0\n",
            "      ... \n",
            "17     1.0\n",
            "103    1.0\n",
            "34     2.0\n",
            "114    2.0\n",
            "149    1.0\n",
            "Name: sex, Length: 67, dtype: float64\n"
          ]
        }
      ]
    },
    {
      "cell_type": "code",
      "source": [
        "print (xtrain.shape)\n",
        "print (ytrain.shape)\n",
        "print (xtest.shape)\n",
        "print (ytest.shape)"
      ],
      "metadata": {
        "colab": {
          "base_uri": "https://localhost:8080/"
        },
        "id": "EdhTdCo0Fm0T",
        "outputId": "a76da025-2876-4178-a53f-474d5ff10d2a"
      },
      "execution_count": null,
      "outputs": [
        {
          "output_type": "stream",
          "name": "stdout",
          "text": [
            "(266, 4)\n",
            "(266,)\n",
            "(67, 4)\n",
            "(67,)\n"
          ]
        }
      ]
    },
    {
      "cell_type": "code",
      "source": [
        "X = data.flipper_length_mm.values\n",
        "Y = data.sex.values\n",
        "\n",
        "l = 0.28\n",
        "\n",
        "X1_mat=np.vstack((np.ones(len(X)), X))\n",
        "print(X1_mat.shape)\n",
        "\n",
        "X_mat=np.vstack((np.ones(len(X)), X)).T\n",
        "\n",
        "print(X_mat.shape)\n",
        "\n",
        "beta_hat = np.linalg.inv((X_mat.T.dot(X_mat))+l*np.identity(2)).dot(X_mat.T).dot(Y)\n",
        "\n",
        "print(beta_hat)\n",
        "\n",
        "\n",
        "w = beta_hat.T"
      ],
      "metadata": {
        "colab": {
          "base_uri": "https://localhost:8080/"
        },
        "id": "1GUYo2B3Foi6",
        "outputId": "4e660de0-f732-43a8-ab2d-ce1015bac13c"
      },
      "execution_count": null,
      "outputs": [
        {
          "output_type": "stream",
          "name": "stdout",
          "text": [
            "(2, 333)\n",
            "(333, 2)\n",
            "[ 1.74800323 -0.51730213]\n"
          ]
        }
      ]
    },
    {
      "cell_type": "code",
      "source": [
        "lr = beta_hat.T*beta_hat\n",
        "lr = l*lr\n",
        "lr = (1/2)*lr\n",
        "\n",
        "print(lr)\n"
      ],
      "metadata": {
        "colab": {
          "base_uri": "https://localhost:8080/"
        },
        "id": "ucYXx1XjFxGt",
        "outputId": "33bcc5bb-89cc-432b-ac7e-3864272698bd"
      },
      "execution_count": null,
      "outputs": [
        {
          "output_type": "stream",
          "name": "stdout",
          "text": [
            "[0.42777214 0.03746421]\n"
          ]
        }
      ]
    },
    {
      "cell_type": "code",
      "source": [
        "ypred = np.dot(beta_hat,X1_mat)\n",
        "print(ytrain.shape)\n",
        "\n",
        "RSE = ((1/2)*(np.square(np.subtract(Y,ypred)))).mean()\n",
        "RSE = (RSE + lr).mean()\n",
        "\n",
        "print(RSE)\n"
      ],
      "metadata": {
        "colab": {
          "base_uri": "https://localhost:8080/"
        },
        "id": "uMF3YkP2Fy_O",
        "outputId": "9ef9a71c-f850-4daa-a2cd-40d0b13e5f4a"
      },
      "execution_count": null,
      "outputs": [
        {
          "output_type": "stream",
          "name": "stdout",
          "text": [
            "(266,)\n",
            "0.3494827630044971\n"
          ]
        }
      ]
    },
    {
      "cell_type": "code",
      "source": [
        "plt.scatter(ypred, Y, alpha=0.5)\n",
        "plt.show()"
      ],
      "metadata": {
        "colab": {
          "base_uri": "https://localhost:8080/",
          "height": 264
        },
        "id": "wpNvbuG7F1H8",
        "outputId": "0fdabfdf-3272-48d7-a951-277a45cf77c8"
      },
      "execution_count": null,
      "outputs": [
        {
          "output_type": "display_data",
          "data": {
            "text/plain": [
              "<Figure size 432x288 with 1 Axes>"
            ],
            "image/png": "[encoded data removed]"
          },
          "metadata": {
            "needs_background": "light"
          }
        }
      ]
    }
  ]
}